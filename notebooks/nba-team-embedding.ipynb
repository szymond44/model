{
 "cells": [
  {
   "cell_type": "code",
   "execution_count": 13,
   "id": "a2867c44",
   "metadata": {},
   "outputs": [],
   "source": [
    "import sys\n",
    "import os\n",
    "import pandas as pd\n",
    "import numpy as np\n",
    "from sklearn.preprocessing import StandardScaler\n",
    "sys.path.append(os.path.abspath(os.path.join('..', 'src')))"
   ]
  },
  {
   "cell_type": "code",
   "execution_count": 10,
   "id": "9468dae2",
   "metadata": {},
   "outputs": [
    {
     "name": "stdout",
     "output_type": "stream",
     "text": [
      "The autoreload extension is already loaded. To reload it, use:\n",
      "  %reload_ext autoreload\n"
     ]
    }
   ],
   "source": [
    "%load_ext autoreload\n",
    "%autoreload 2\n",
    "from data.api_fetcher import ApiFetcher"
   ]
  },
  {
   "cell_type": "code",
   "execution_count": 35,
   "id": "2b6faf84",
   "metadata": {},
   "outputs": [],
   "source": [
    "%reload_ext autoreload\n",
    "api = ApiFetcher(starting_year=2015, ending_year=2025)\n",
    "df = api.create_numeric_with_team_ids()"
   ]
  },
  {
   "cell_type": "code",
   "execution_count": 47,
   "id": "0bf3398b",
   "metadata": {},
   "outputs": [],
   "source": [
    "def prepare_embedding_dataset(df, \n",
    "                               home_id_col='home_team_season_id', \n",
    "                               away_id_col='away_team_season_id',\n",
    "                               target_cols=('home_pts', 'away_pts'),\n",
    "                               date_col='game_date'):\n",
    "    \n",
    "    #prep target\n",
    "    y = df[target_cols[0]] + df[target_cols[1]] \n",
    "    y = y.values.astype(np.float32)\n",
    "\n",
    "    #extract ids, leave only numeric data\n",
    "    exclude_cols = [home_id_col, away_id_col] + list(target_cols) + [date_col]\n",
    "    numeric_cols = df.drop(columns=exclude_cols).select_dtypes(include=[np.number]).columns.tolist()\n",
    "\n",
    "    #extract and normalise num features (must be  numpy tensors)\n",
    "\n",
    "    X_numeric = df[numeric_cols].values.astype(np.float32)\n",
    "    scaler = StandardScaler()\n",
    "    X_numeric = scaler.fit_transform(X_numeric)\n",
    "\n",
    "    # Extract team IDs\n",
    "    X_home_id = df[home_id_col].values.astype(np.int32)\n",
    "    X_away_id = df[away_id_col].values.astype(np.int32)\n",
    "    \n",
    "    return X_numeric, X_home_id, X_away_id, y, scaler\n",
    "\n",
    "\n"
   ]
  },
  {
   "cell_type": "code",
   "execution_count": null,
   "id": "7cabc870",
   "metadata": {},
   "outputs": [
    {
     "name": "stdout",
     "output_type": "stream",
     "text": [
      "X_numeric shape: (11973, 22)\n",
      "Home IDs shape: (11973,)\n",
      "Away IDs shape: (11973,)\n",
      "y shape: (11973,)\n"
     ]
    }
   ],
   "source": [
    "#X_numeric, X_home_id, X_away_id, y, scaler = prepare_embedding_dataset(df)\n",
    "\n",
    "#print(\"X_numeric shape:\", X_numeric.shape)\n",
    "#print(\"Home IDs shape:\", X_home_id.shape)\n",
    "#print(\"Away IDs shape:\", X_away_id.shape)\n",
    "#print(\"y shape:\", y.shape)\n"
   ]
  },
  {
   "cell_type": "code",
   "execution_count": 42,
   "id": "0b0098b1",
   "metadata": {},
   "outputs": [],
   "source": [
    "import torch\n",
    "import torch.nn as nn\n",
    "\n",
    "class NBAEmbeddingModel(nn.Module):\n",
    "    def __init__(self, num_numeric_features, num_teams, embedding_dim=8):\n",
    "        super(NBAEmbeddingModel, self).__init__()\n",
    "        \n",
    "        # Embedding layers for team IDs\n",
    "        self.home_embedding = nn.Embedding(num_teams, embedding_dim)\n",
    "        self.away_embedding = nn.Embedding(num_teams, embedding_dim)\n",
    "        \n",
    "        # First hidden layer: (numeric features + 2 embeddings) → 64 neurons\n",
    "        self.fc1 = nn.Linear(num_numeric_features + embedding_dim * 2, 64)\n",
    "        \n",
    "        # Second hidden layer: 64 → 32 neurons\n",
    "        self.fc2 = nn.Linear(64, 32)\n",
    "        \n",
    "        # Output layer: 32 → 1 (predict total points)\n",
    "        self.output = nn.Linear(32, 1)\n",
    "        \n",
    "        # Activation\n",
    "        self.relu = nn.ReLU()\n",
    "\n",
    "    def forward(self, numeric_features, home_ids, away_ids):\n",
    "        # Get embeddings\n",
    "        home_emb = self.home_embedding(home_ids)   # shape: (batch_size, embedding_dim)\n",
    "        away_emb = self.away_embedding(away_ids)   # shape: (batch_size, embedding_dim)\n",
    "        \n",
    "        # Concatenate numeric + embeddings\n",
    "        x = torch.cat([numeric_features, home_emb, away_emb], dim=1)\n",
    "        \n",
    "        # Pass through hidden layers\n",
    "        x = self.relu(self.fc1(x))\n",
    "        x = self.relu(self.fc2(x))\n",
    "        \n",
    "        # Output (linear, no activation for regression)\n",
    "        return self.output(x)\n"
   ]
  },
  {
   "cell_type": "code",
   "execution_count": 49,
   "id": "b8d2a3c1",
   "metadata": {},
   "outputs": [
    {
     "ename": "KeyError",
     "evalue": "\"['game_date'] not found in axis\"",
     "output_type": "error",
     "traceback": [
      "\u001b[31m---------------------------------------------------------------------------\u001b[39m",
      "\u001b[31mKeyError\u001b[39m                                  Traceback (most recent call last)",
      "\u001b[36mCell\u001b[39m\u001b[36m \u001b[39m\u001b[32mIn[49]\u001b[39m\u001b[32m, line 8\u001b[39m\n\u001b[32m      5\u001b[39m \u001b[38;5;28;01mimport\u001b[39;00m\u001b[38;5;250m \u001b[39m\u001b[34;01mtorch\u001b[39;00m\u001b[34;01m.\u001b[39;00m\u001b[34;01moptim\u001b[39;00m\u001b[38;5;250m \u001b[39m\u001b[38;5;28;01mas\u001b[39;00m\u001b[38;5;250m \u001b[39m\u001b[34;01moptim\u001b[39;00m\n\u001b[32m      7\u001b[39m \u001b[38;5;66;03m# 1. Prepare dataset\u001b[39;00m\n\u001b[32m----> \u001b[39m\u001b[32m8\u001b[39m X_numeric, X_home_id, X_away_id, y, scaler = \u001b[43mprepare_embedding_dataset\u001b[49m\u001b[43m(\u001b[49m\u001b[43mdf\u001b[49m\u001b[43m)\u001b[49m\n\u001b[32m     10\u001b[39m \u001b[38;5;66;03m# Convert date column to datetime\u001b[39;00m\n\u001b[32m     11\u001b[39m dates = pd.to_datetime(df[\u001b[33m'\u001b[39m\u001b[33mgame_date\u001b[39m\u001b[33m'\u001b[39m])\n",
      "\u001b[36mCell\u001b[39m\u001b[36m \u001b[39m\u001b[32mIn[47]\u001b[39m\u001b[32m, line 13\u001b[39m, in \u001b[36mprepare_embedding_dataset\u001b[39m\u001b[34m(df, home_id_col, away_id_col, target_cols, date_col)\u001b[39m\n\u001b[32m     11\u001b[39m \u001b[38;5;66;03m#extract ids, leave only numeric data\u001b[39;00m\n\u001b[32m     12\u001b[39m exclude_cols = [home_id_col, away_id_col] + \u001b[38;5;28mlist\u001b[39m(target_cols) + [date_col]\n\u001b[32m---> \u001b[39m\u001b[32m13\u001b[39m numeric_cols = \u001b[43mdf\u001b[49m\u001b[43m.\u001b[49m\u001b[43mdrop\u001b[49m\u001b[43m(\u001b[49m\u001b[43mcolumns\u001b[49m\u001b[43m=\u001b[49m\u001b[43mexclude_cols\u001b[49m\u001b[43m)\u001b[49m.select_dtypes(include=[np.number]).columns.tolist()\n\u001b[32m     15\u001b[39m \u001b[38;5;66;03m#extract and normalise num features (must be  numpy tensors)\u001b[39;00m\n\u001b[32m     17\u001b[39m X_numeric = df[numeric_cols].values.astype(np.float32)\n",
      "\u001b[36mFile \u001b[39m\u001b[32mc:\\Users\\szymo\\AppData\\Local\\Programs\\Python\\Python313\\Lib\\site-packages\\pandas\\core\\frame.py:5588\u001b[39m, in \u001b[36mDataFrame.drop\u001b[39m\u001b[34m(self, labels, axis, index, columns, level, inplace, errors)\u001b[39m\n\u001b[32m   5440\u001b[39m \u001b[38;5;28;01mdef\u001b[39;00m\u001b[38;5;250m \u001b[39m\u001b[34mdrop\u001b[39m(\n\u001b[32m   5441\u001b[39m     \u001b[38;5;28mself\u001b[39m,\n\u001b[32m   5442\u001b[39m     labels: IndexLabel | \u001b[38;5;28;01mNone\u001b[39;00m = \u001b[38;5;28;01mNone\u001b[39;00m,\n\u001b[32m   (...)\u001b[39m\u001b[32m   5449\u001b[39m     errors: IgnoreRaise = \u001b[33m\"\u001b[39m\u001b[33mraise\u001b[39m\u001b[33m\"\u001b[39m,\n\u001b[32m   5450\u001b[39m ) -> DataFrame | \u001b[38;5;28;01mNone\u001b[39;00m:\n\u001b[32m   5451\u001b[39m \u001b[38;5;250m    \u001b[39m\u001b[33;03m\"\"\"\u001b[39;00m\n\u001b[32m   5452\u001b[39m \u001b[33;03m    Drop specified labels from rows or columns.\u001b[39;00m\n\u001b[32m   5453\u001b[39m \n\u001b[32m   (...)\u001b[39m\u001b[32m   5586\u001b[39m \u001b[33;03m            weight  1.0     0.8\u001b[39;00m\n\u001b[32m   5587\u001b[39m \u001b[33;03m    \"\"\"\u001b[39;00m\n\u001b[32m-> \u001b[39m\u001b[32m5588\u001b[39m     \u001b[38;5;28;01mreturn\u001b[39;00m \u001b[38;5;28;43msuper\u001b[39;49m\u001b[43m(\u001b[49m\u001b[43m)\u001b[49m\u001b[43m.\u001b[49m\u001b[43mdrop\u001b[49m\u001b[43m(\u001b[49m\n\u001b[32m   5589\u001b[39m \u001b[43m        \u001b[49m\u001b[43mlabels\u001b[49m\u001b[43m=\u001b[49m\u001b[43mlabels\u001b[49m\u001b[43m,\u001b[49m\n\u001b[32m   5590\u001b[39m \u001b[43m        \u001b[49m\u001b[43maxis\u001b[49m\u001b[43m=\u001b[49m\u001b[43maxis\u001b[49m\u001b[43m,\u001b[49m\n\u001b[32m   5591\u001b[39m \u001b[43m        \u001b[49m\u001b[43mindex\u001b[49m\u001b[43m=\u001b[49m\u001b[43mindex\u001b[49m\u001b[43m,\u001b[49m\n\u001b[32m   5592\u001b[39m \u001b[43m        \u001b[49m\u001b[43mcolumns\u001b[49m\u001b[43m=\u001b[49m\u001b[43mcolumns\u001b[49m\u001b[43m,\u001b[49m\n\u001b[32m   5593\u001b[39m \u001b[43m        \u001b[49m\u001b[43mlevel\u001b[49m\u001b[43m=\u001b[49m\u001b[43mlevel\u001b[49m\u001b[43m,\u001b[49m\n\u001b[32m   5594\u001b[39m \u001b[43m        \u001b[49m\u001b[43minplace\u001b[49m\u001b[43m=\u001b[49m\u001b[43minplace\u001b[49m\u001b[43m,\u001b[49m\n\u001b[32m   5595\u001b[39m \u001b[43m        \u001b[49m\u001b[43merrors\u001b[49m\u001b[43m=\u001b[49m\u001b[43merrors\u001b[49m\u001b[43m,\u001b[49m\n\u001b[32m   5596\u001b[39m \u001b[43m    \u001b[49m\u001b[43m)\u001b[49m\n",
      "\u001b[36mFile \u001b[39m\u001b[32mc:\\Users\\szymo\\AppData\\Local\\Programs\\Python\\Python313\\Lib\\site-packages\\pandas\\core\\generic.py:4807\u001b[39m, in \u001b[36mNDFrame.drop\u001b[39m\u001b[34m(self, labels, axis, index, columns, level, inplace, errors)\u001b[39m\n\u001b[32m   4805\u001b[39m \u001b[38;5;28;01mfor\u001b[39;00m axis, labels \u001b[38;5;129;01min\u001b[39;00m axes.items():\n\u001b[32m   4806\u001b[39m     \u001b[38;5;28;01mif\u001b[39;00m labels \u001b[38;5;129;01mis\u001b[39;00m \u001b[38;5;129;01mnot\u001b[39;00m \u001b[38;5;28;01mNone\u001b[39;00m:\n\u001b[32m-> \u001b[39m\u001b[32m4807\u001b[39m         obj = \u001b[43mobj\u001b[49m\u001b[43m.\u001b[49m\u001b[43m_drop_axis\u001b[49m\u001b[43m(\u001b[49m\u001b[43mlabels\u001b[49m\u001b[43m,\u001b[49m\u001b[43m \u001b[49m\u001b[43maxis\u001b[49m\u001b[43m,\u001b[49m\u001b[43m \u001b[49m\u001b[43mlevel\u001b[49m\u001b[43m=\u001b[49m\u001b[43mlevel\u001b[49m\u001b[43m,\u001b[49m\u001b[43m \u001b[49m\u001b[43merrors\u001b[49m\u001b[43m=\u001b[49m\u001b[43merrors\u001b[49m\u001b[43m)\u001b[49m\n\u001b[32m   4809\u001b[39m \u001b[38;5;28;01mif\u001b[39;00m inplace:\n\u001b[32m   4810\u001b[39m     \u001b[38;5;28mself\u001b[39m._update_inplace(obj)\n",
      "\u001b[36mFile \u001b[39m\u001b[32mc:\\Users\\szymo\\AppData\\Local\\Programs\\Python\\Python313\\Lib\\site-packages\\pandas\\core\\generic.py:4849\u001b[39m, in \u001b[36mNDFrame._drop_axis\u001b[39m\u001b[34m(self, labels, axis, level, errors, only_slice)\u001b[39m\n\u001b[32m   4847\u001b[39m         new_axis = axis.drop(labels, level=level, errors=errors)\n\u001b[32m   4848\u001b[39m     \u001b[38;5;28;01melse\u001b[39;00m:\n\u001b[32m-> \u001b[39m\u001b[32m4849\u001b[39m         new_axis = \u001b[43maxis\u001b[49m\u001b[43m.\u001b[49m\u001b[43mdrop\u001b[49m\u001b[43m(\u001b[49m\u001b[43mlabels\u001b[49m\u001b[43m,\u001b[49m\u001b[43m \u001b[49m\u001b[43merrors\u001b[49m\u001b[43m=\u001b[49m\u001b[43merrors\u001b[49m\u001b[43m)\u001b[49m\n\u001b[32m   4850\u001b[39m     indexer = axis.get_indexer(new_axis)\n\u001b[32m   4852\u001b[39m \u001b[38;5;66;03m# Case for non-unique axis\u001b[39;00m\n\u001b[32m   4853\u001b[39m \u001b[38;5;28;01melse\u001b[39;00m:\n",
      "\u001b[36mFile \u001b[39m\u001b[32mc:\\Users\\szymo\\AppData\\Local\\Programs\\Python\\Python313\\Lib\\site-packages\\pandas\\core\\indexes\\base.py:7098\u001b[39m, in \u001b[36mIndex.drop\u001b[39m\u001b[34m(self, labels, errors)\u001b[39m\n\u001b[32m   7096\u001b[39m \u001b[38;5;28;01mif\u001b[39;00m mask.any():\n\u001b[32m   7097\u001b[39m     \u001b[38;5;28;01mif\u001b[39;00m errors != \u001b[33m\"\u001b[39m\u001b[33mignore\u001b[39m\u001b[33m\"\u001b[39m:\n\u001b[32m-> \u001b[39m\u001b[32m7098\u001b[39m         \u001b[38;5;28;01mraise\u001b[39;00m \u001b[38;5;167;01mKeyError\u001b[39;00m(\u001b[33mf\u001b[39m\u001b[33m\"\u001b[39m\u001b[38;5;132;01m{\u001b[39;00mlabels[mask].tolist()\u001b[38;5;132;01m}\u001b[39;00m\u001b[33m not found in axis\u001b[39m\u001b[33m\"\u001b[39m)\n\u001b[32m   7099\u001b[39m     indexer = indexer[~mask]\n\u001b[32m   7100\u001b[39m \u001b[38;5;28;01mreturn\u001b[39;00m \u001b[38;5;28mself\u001b[39m.delete(indexer)\n",
      "\u001b[31mKeyError\u001b[39m: \"['game_date'] not found in axis\""
     ]
    }
   ],
   "source": [
    "from sklearn.preprocessing import StandardScaler\n",
    "import torch\n",
    "from torch.utils.data import DataLoader, TensorDataset\n",
    "import torch.nn as nn\n",
    "import torch.optim as optim\n",
    "\n",
    "# 1. Prepare dataset\n",
    "X_numeric, X_home_id, X_away_id, y, scaler = prepare_embedding_dataset(df)\n",
    "\n",
    "# Convert date column to datetime\n",
    "dates = pd.to_datetime(df['game_date'])\n",
    "\n",
    "# Sort by date\n",
    "sorted_idx = dates.argsort()\n",
    "X_numeric = X_numeric[sorted_idx]\n",
    "X_home_id = X_home_id[sorted_idx]\n",
    "X_away_id = X_away_id[sorted_idx]\n",
    "y = y[sorted_idx]\n",
    "\n",
    "# Split by date: last 20% as test\n",
    "split_idx = int(len(df) * 0.8)\n",
    "\n",
    "X_numeric_train, X_numeric_test = X_numeric[:split_idx], X_numeric[split_idx:]\n",
    "X_home_train, X_home_test = X_home_id[:split_idx], X_home_id[split_idx:]\n",
    "X_away_train, X_away_test = X_away_id[:split_idx], X_away_id[split_idx:]\n",
    "y_train, y_test = y[:split_idx], y[split_idx:]\n",
    "\n",
    "# Convert to PyTorch tensors\n",
    "X_numeric_train = torch.tensor(X_numeric_train, dtype=torch.float32)\n",
    "X_numeric_test = torch.tensor(X_numeric_test, dtype=torch.float32)\n",
    "X_home_train = torch.tensor(X_home_train, dtype=torch.long)\n",
    "X_home_test = torch.tensor(X_home_test, dtype=torch.long)\n",
    "X_away_train = torch.tensor(X_away_train, dtype=torch.long)\n",
    "X_away_test = torch.tensor(X_away_test, dtype=torch.long)\n",
    "y_train = torch.tensor(y_train, dtype=torch.float32).unsqueeze(1)\n",
    "y_test = torch.tensor(y_test, dtype=torch.float32).unsqueeze(1)\n",
    "\n",
    "# Create DataLoader\n",
    "train_dataset = TensorDataset(X_numeric_train, X_home_train, X_away_train, y_train)\n",
    "test_dataset = TensorDataset(X_numeric_test, X_home_test, X_away_test, y_test)\n",
    "\n",
    "train_loader = DataLoader(train_dataset, batch_size=32, shuffle=True)\n",
    "test_loader = DataLoader(test_dataset, batch_size=32, shuffle=False)"
   ]
  }
 ],
 "metadata": {
  "kernelspec": {
   "display_name": "Python 3",
   "language": "python",
   "name": "python3"
  },
  "language_info": {
   "codemirror_mode": {
    "name": "ipython",
    "version": 3
   },
   "file_extension": ".py",
   "mimetype": "text/x-python",
   "name": "python",
   "nbconvert_exporter": "python",
   "pygments_lexer": "ipython3",
   "version": "3.13.3"
  }
 },
 "nbformat": 4,
 "nbformat_minor": 5
}
