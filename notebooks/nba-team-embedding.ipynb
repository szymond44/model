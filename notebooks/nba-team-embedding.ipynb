{
 "cells": [
  {
   "cell_type": "code",
   "execution_count": 19,
   "id": "a2867c44",
   "metadata": {},
   "outputs": [],
   "source": [
    "import sys\n",
    "import os\n",
    "import pandas as pd\n",
    "import numpy as np\n",
    "import torch\n",
    "import copy\n",
    "import torch.nn as nn\n",
    "from sklearn.preprocessing import StandardScaler\n",
    "sys.path.append(os.path.abspath(os.path.join('..', 'src')))"
   ]
  },
  {
   "cell_type": "code",
   "execution_count": 20,
   "id": "9468dae2",
   "metadata": {},
   "outputs": [
    {
     "name": "stdout",
     "output_type": "stream",
     "text": [
      "The autoreload extension is already loaded. To reload it, use:\n",
      "  %reload_ext autoreload\n"
     ]
    }
   ],
   "source": [
    "%load_ext autoreload\n",
    "%autoreload 2\n",
    "from data.api_fetcher import ApiFetcher"
   ]
  },
  {
   "cell_type": "code",
   "execution_count": 21,
   "id": "2b6faf84",
   "metadata": {},
   "outputs": [
    {
     "name": "stdout",
     "output_type": "stream",
     "text": [
      "Index(['home_fga', 'away_fga', 'home_fg_pct', 'away_fg_pct', 'home_fg3a',\n",
      "       'away_fg3a', 'home_fg3_pct', 'away_fg3_pct', 'home_oreb', 'away_oreb',\n",
      "       'home_dreb', 'away_dreb', 'home_ast', 'away_ast', 'home_stl',\n",
      "       'away_stl', 'home_blk', 'away_blk', 'home_tov', 'away_tov', 'home_pf',\n",
      "       'away_pf', 'home_pts', 'away_pts', 'home_team', 'away_team', 'date',\n",
      "       'home_team_id', 'away_team_id', 'home_team_season_id',\n",
      "       'away_team_season_id'],\n",
      "      dtype='object')\n"
     ]
    }
   ],
   "source": [
    "%reload_ext autoreload\n",
    "api = ApiFetcher(starting_year=2015, ending_year=2025)\n",
    "df = api.get_dataframe(numeric=False, ids=True, date=True, time_coeff=False, season_id=True)\n",
    "print(df.columns)"
   ]
  },
  {
   "cell_type": "code",
   "execution_count": 22,
   "id": "0bf3398b",
   "metadata": {},
   "outputs": [],
   "source": [
    "def prepare_embedding_dataset(df, \n",
    "                               home_id_col='home_team_season_id', \n",
    "                               away_id_col='away_team_season_id',\n",
    "                               target_cols=('home_pts', 'away_pts'),\n",
    "                               date_col='date'):\n",
    "    \n",
    "    #prep target\n",
    "    y = df[target_cols[0]] + df[target_cols[1]] \n",
    "    y = y.values.astype(np.float32)\n",
    "\n",
    "    #extract ids, leave only numeric data\n",
    "    exclude_cols = [home_id_col, away_id_col] + list(target_cols) + [date_col]\n",
    "    numeric_cols = []\n",
    "    for col in df.columns:\n",
    "            if col not in exclude_cols:\n",
    "                # Check if column is numeric and can be converted to float\n",
    "                if pd.api.types.is_numeric_dtype(df[col]):\n",
    "                    numeric_cols.append(col)\n",
    "    \n",
    "    print(f\"Using numeric columns: {numeric_cols}\")\n",
    "\n",
    "    #extract and normalise num features (must be  numpy tensors)\n",
    "\n",
    "    X_numeric = df[numeric_cols].values.astype(np.float32)\n",
    "    scaler = StandardScaler()\n",
    "    X_numeric = scaler.fit_transform(X_numeric)\n",
    "\n",
    "    # Extract team IDs\n",
    "    X_home_id = df[home_id_col].values.astype(np.int32)\n",
    "    X_away_id = df[away_id_col].values.astype(np.int32)\n",
    "    \n",
    "    return X_numeric, X_home_id, X_away_id, y, scaler\n",
    "\n",
    "\n"
   ]
  },
  {
   "cell_type": "code",
   "execution_count": 23,
   "id": "7cabc870",
   "metadata": {},
   "outputs": [],
   "source": [
    "#X_numeric, X_home_id, X_away_id, y, scaler = prepare_embedding_dataset(df)\n",
    "\n",
    "#print(\"X_numeric shape:\", X_numeric.shape)\n",
    "#print(\"Home IDs shape:\", X_home_id.shape)\n",
    "#print(\"Away IDs shape:\", X_away_id.shape)\n",
    "#print(\"y shape:\", y.shape)\n"
   ]
  },
  {
   "cell_type": "code",
   "execution_count": 24,
   "id": "0b0098b1",
   "metadata": {},
   "outputs": [],
   "source": [
    "class NBAEmbeddingModel(nn.Module):\n",
    "    def __init__(self, num_numeric_features, num_teams, embedding_dim=8):\n",
    "        super(NBAEmbeddingModel, self).__init__()\n",
    "        \n",
    "        # Embedding layers for team IDs\n",
    "        self.home_embedding = nn.Embedding(num_teams, embedding_dim)\n",
    "        self.away_embedding = nn.Embedding(num_teams, embedding_dim)\n",
    "        \n",
    "        # First hidden layer: (numeric features + 2 embeddings) → 64 neurons\n",
    "        self.fc1 = nn.Linear(num_numeric_features + embedding_dim * 2, 64)\n",
    "        \n",
    "        # Second hidden layer: 64 → 32 neurons\n",
    "        self.fc2 = nn.Linear(64, 32)\n",
    "        \n",
    "        # Output layer: 32 → 1 (predict total points)\n",
    "        self.output = nn.Linear(32, 1)\n",
    "        \n",
    "        # Activation\n",
    "        self.relu = nn.ReLU()\n",
    "\n",
    "    def forward(self, numeric_features, home_ids, away_ids):\n",
    "        # Get embeddings\n",
    "        home_emb = self.home_embedding(home_ids)   # shape: (batch_size, embedding_dim)\n",
    "        away_emb = self.away_embedding(away_ids)   # shape: (batch_size, embedding_dim)\n",
    "        \n",
    "        # Concatenate numeric + embeddings\n",
    "        x = torch.cat([numeric_features, home_emb, away_emb], dim=1)\n",
    "        \n",
    "        # Pass through hidden layers\n",
    "        x = self.relu(self.fc1(x))\n",
    "        x = self.relu(self.fc2(x))\n",
    "        \n",
    "        # Output (linear, no activation for regression)\n",
    "        return self.output(x)\n"
   ]
  },
  {
   "cell_type": "code",
   "execution_count": 25,
   "id": "b8d2a3c1",
   "metadata": {},
   "outputs": [
    {
     "name": "stdout",
     "output_type": "stream",
     "text": [
      "Using numeric columns: ['home_fga', 'away_fga', 'home_fg_pct', 'away_fg_pct', 'home_fg3a', 'away_fg3a', 'home_fg3_pct', 'away_fg3_pct', 'home_oreb', 'away_oreb', 'home_dreb', 'away_dreb', 'home_ast', 'away_ast', 'home_stl', 'away_stl', 'home_blk', 'away_blk', 'home_tov', 'away_tov', 'home_pf', 'away_pf', 'home_team_id', 'away_team_id']\n"
     ]
    }
   ],
   "source": [
    "from sklearn.preprocessing import StandardScaler\n",
    "import torch\n",
    "from torch.utils.data import DataLoader, TensorDataset\n",
    "import torch.nn as nn\n",
    "import torch.optim as optim\n",
    "\n",
    "# 1. Prepare dataset\n",
    "X_numeric, X_home_id, X_away_id, y, scaler = prepare_embedding_dataset(df)\n",
    "\n",
    "# Convert date column to datetime\n",
    "dates = pd.to_datetime(df['date'])\n",
    "\n",
    "# Sort by date\n",
    "sorted_idx = dates.argsort()\n",
    "X_numeric = X_numeric[sorted_idx]\n",
    "X_home_id = X_home_id[sorted_idx]\n",
    "X_away_id = X_away_id[sorted_idx]\n",
    "y = y[sorted_idx]\n",
    "\n",
    "# Split by date: last 20% as test\n",
    "split_idx = int(len(df) * 0.8)\n",
    "\n",
    "X_numeric_train, X_numeric_test = X_numeric[:split_idx], X_numeric[split_idx:]\n",
    "X_home_train, X_home_test = X_home_id[:split_idx], X_home_id[split_idx:]\n",
    "X_away_train, X_away_test = X_away_id[:split_idx], X_away_id[split_idx:]\n",
    "y_train, y_test = y[:split_idx], y[split_idx:]\n",
    "\n",
    "# Convert to PyTorch tensors\n",
    "X_numeric_train = torch.tensor(X_numeric_train, dtype=torch.float32)\n",
    "X_numeric_test = torch.tensor(X_numeric_test, dtype=torch.float32)\n",
    "X_home_train = torch.tensor(X_home_train, dtype=torch.long)\n",
    "X_home_test = torch.tensor(X_home_test, dtype=torch.long)\n",
    "X_away_train = torch.tensor(X_away_train, dtype=torch.long)\n",
    "X_away_test = torch.tensor(X_away_test, dtype=torch.long)\n",
    "y_train = torch.tensor(y_train, dtype=torch.float32).unsqueeze(1)\n",
    "y_test = torch.tensor(y_test, dtype=torch.float32).unsqueeze(1)\n",
    "\n",
    "# Create DataLoader\n",
    "train_dataset = TensorDataset(X_numeric_train, X_home_train, X_away_train, y_train)\n",
    "test_dataset = TensorDataset(X_numeric_test, X_home_test, X_away_test, y_test)\n",
    "\n",
    "train_loader = DataLoader(train_dataset, batch_size=32, shuffle=True)\n",
    "test_loader = DataLoader(test_dataset, batch_size=32, shuffle=False)"
   ]
  },
  {
   "cell_type": "code",
   "execution_count": 26,
   "id": "aa4cb23f",
   "metadata": {},
   "outputs": [],
   "source": [
    "num_numeric_features = X_numeric_train.shape[1]\n",
    "num_teams = max(X_home_id.max(), X_away_id.max()) + 1  # IDs start at 0\n",
    "model = NBAEmbeddingModel(num_numeric_features, num_teams, embedding_dim=8)\n",
    "\n",
    "# Loss and optimizer\n",
    "criterion = nn.MSELoss()"
   ]
  },
  {
   "cell_type": "code",
   "execution_count": 27,
   "id": "34708b58",
   "metadata": {},
   "outputs": [
    {
     "name": "stdout",
     "output_type": "stream",
     "text": [
      "Epoch 0: Train: 4721.411394, Val: 1013.225891, LR: 0.040059\n",
      "Epoch 50: Train: 124.790477, Val: 100.078415, LR: 0.185973\n",
      "Epoch 100: Train: 443.257559, Val: 536.980835, LR: 0.527571\n",
      "Epoch 150: Train: 444.624412, Val: 522.890930, LR: 0.864734\n",
      "Early stopping at epoch 160. Best val loss: 57.476025\n"
     ]
    }
   ],
   "source": [
    "criterion = nn.MSELoss()\n",
    "optimizer = optim.AdamW(model.parameters(), lr=1e-7, weight_decay=1e-4)\n",
    "\n",
    "# Walidacja\n",
    "val_split_idx = int(len(X_numeric_train) * 0.8)\n",
    "X_num_val, X_home_val, X_away_val, y_val = (\n",
    "    X_numeric_train[val_split_idx:],\n",
    "    X_home_train[val_split_idx:],\n",
    "    X_away_train[val_split_idx:],\n",
    "    y_train[val_split_idx:]\n",
    ")\n",
    "X_num_train_only, X_home_train_only, X_away_train_only, y_train_only = (\n",
    "    X_numeric_train[:val_split_idx],\n",
    "    X_home_train[:val_split_idx],\n",
    "    X_away_train[:val_split_idx],\n",
    "    y_train[:val_split_idx]\n",
    ")\n",
    "\n",
    "train_dataset = TensorDataset(X_num_train_only, X_home_train_only, X_away_train_only, y_train_only)\n",
    "batch_size = 64\n",
    "train_loader = DataLoader(train_dataset, batch_size=batch_size, shuffle=True)\n",
    "\n",
    "# OneCycleLR\n",
    "num_epochs = 1000\n",
    "total_steps = len(train_loader) * num_epochs\n",
    "max_lr = 1.0\n",
    "scheduler = optim.lr_scheduler.OneCycleLR(\n",
    "    optimizer,\n",
    "    max_lr=max_lr,\n",
    "    total_steps=total_steps,\n",
    "    pct_start=0.2,\n",
    "    anneal_strategy='cos',\n",
    "    div_factor=25.0,\n",
    "    final_div_factor=1e4\n",
    ")\n",
    "\n",
    "# Early stopping\n",
    "best_val_loss = float('inf')\n",
    "patience = 100\n",
    "patience_counter = 0\n",
    "best_model_state = None\n",
    "\n",
    "for epoch in range(num_epochs):\n",
    "    # Training\n",
    "    model.train()\n",
    "    train_loss = 0.0\n",
    "    for X_num_batch, X_home_batch, X_away_batch, y_batch in train_loader:\n",
    "        optimizer.zero_grad()\n",
    "        outputs = model(X_num_batch, X_home_batch, X_away_batch)\n",
    "        loss = criterion(outputs, y_batch)\n",
    "        loss.backward()\n",
    "        optimizer.step()\n",
    "        scheduler.step()\n",
    "        train_loss += loss.item() * X_num_batch.size(0)\n",
    "    train_loss /= len(train_dataset)\n",
    "    \n",
    "    # Walidacja\n",
    "    model.eval()\n",
    "    with torch.no_grad():\n",
    "        val_outputs = model(X_num_val, X_home_val, X_away_val)\n",
    "        val_loss = criterion(val_outputs, y_val).item()\n",
    "    \n",
    "    # Early stopping\n",
    "    if val_loss < best_val_loss:\n",
    "        best_val_loss = val_loss\n",
    "        patience_counter = 0\n",
    "        best_model_state = copy.deepcopy(model.state_dict())\n",
    "    else:\n",
    "        patience_counter += 1\n",
    "    \n",
    "    if epoch % 50 == 0:\n",
    "        current_lr = optimizer.param_groups[0]['lr']\n",
    "        print(f'Epoch {epoch}: Train: {train_loss:.6f}, Val: {val_loss:.6f}, LR: {current_lr:.6f}')\n",
    "    \n",
    "    if patience_counter >= patience:\n",
    "        print(f'Early stopping at epoch {epoch}. Best val loss: {best_val_loss:.6f}')\n",
    "        break\n",
    "\n",
    "# Załaduj najlepszy model\n",
    "if best_model_state:\n",
    "    model.load_state_dict(best_model_state)"
   ]
  },
  {
   "cell_type": "code",
   "execution_count": null,
   "id": "8662fd55",
   "metadata": {},
   "outputs": [],
   "source": [
    "model.eval()\n",
    "criterion = nn.MSELoss()\n",
    "\n",
    "mse = 0\n",
    "with torch.no_grad():\n",
    "    for X_num, X_home, X_away, y in test_loader:\n",
    "        outputs = model(X_num, X_home, X_away)\n",
    "        mse += criterion(outputs, y).item() * X_num.size(0)\n",
    "\n",
    "mse /= len(test_dataset)\n",
    "print(f\"MSE: {mse:.6f}\")\n"
   ]
  },
  {
   "cell_type": "code",
   "execution_count": null,
   "id": "9a93beee",
   "metadata": {},
   "outputs": [],
   "source": []
  }
 ],
 "metadata": {
  "kernelspec": {
   "display_name": ".venv (3.13.3)",
   "language": "python",
   "name": "python3"
  },
  "language_info": {
   "codemirror_mode": {
    "name": "ipython",
    "version": 3
   },
   "file_extension": ".py",
   "mimetype": "text/x-python",
   "name": "python",
   "nbconvert_exporter": "python",
   "pygments_lexer": "ipython3",
   "version": "3.13.3"
  }
 },
 "nbformat": 4,
 "nbformat_minor": 5
}
