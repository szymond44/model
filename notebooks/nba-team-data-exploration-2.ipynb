{
 "cells": [
  {
   "cell_type": "markdown",
   "id": "c87c5d92",
   "metadata": {},
   "source": [
    "# 🏀 NBA Team Points Prediction Model\n",
    "🔬 **Data Exploring (Advanced features)**\n",
    "---    \n",
    "🙋 **authors**: szymond44, gwiazdan  \n",
    "📆 **date**: 21-07-2025  \n"
   ]
  },
  {
   "cell_type": "code",
   "execution_count": 1,
   "id": "4208acb0",
   "metadata": {},
   "outputs": [],
   "source": [
    "import sys\n",
    "import os\n",
    "import seaborn as sns\n",
    "import matplotlib.pyplot as plt\n",
    "sys.path.append(os.path.abspath(os.path.join('..', 'src')))\n",
    "%matplotlib inline"
   ]
  },
  {
   "cell_type": "code",
   "execution_count": null,
   "id": "4abfa729",
   "metadata": {},
   "outputs": [],
   "source": [
    "%load_ext autoreload\n",
    "%autoreload 2\n",
    "from data import ApiFetcher\n",
    "from utils import distribution_calculating, check_distribution"
   ]
  }
 ],
 "metadata": {
  "kernelspec": {
   "display_name": ".venv (3.13.3)",
   "language": "python",
   "name": "python3"
  },
  "language_info": {
   "codemirror_mode": {
    "name": "ipython",
    "version": 3
   },
   "file_extension": ".py",
   "mimetype": "text/x-python",
   "name": "python",
   "nbconvert_exporter": "python",
   "pygments_lexer": "ipython3",
   "version": "3.13.3"
  }
 },
 "nbformat": 4,
 "nbformat_minor": 5
}
