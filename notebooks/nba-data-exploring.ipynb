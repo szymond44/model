{
 "cells": [
  {
   "cell_type": "markdown",
   "id": "51b1e845",
   "metadata": {
    "vscode": {
     "languageId": "plaintext"
    }
   },
   "source": [
    "# 🏀 NBA Team Points Prediction Model\n",
    "🙋 **authors**: szymond44, gwiazdan  \n",
    "📆 **date**: 21-07-2025  \n"
   ]
  },
  {
   "cell_type": "code",
   "execution_count": 12,
   "id": "0f3d8b38",
   "metadata": {},
   "outputs": [],
   "source": [
    "import sys\n",
    "import os\n",
    "sys.path.append(os.path.abspath(os.path.join('..', 'src')))\n",
    "\n",
    "import pandas as pd"
   ]
  },
  {
   "cell_type": "code",
   "execution_count": 10,
   "id": "553e5f11",
   "metadata": {},
   "outputs": [
    {
     "name": "stdout",
     "output_type": "stream",
     "text": [
      "The autoreload extension is already loaded. To reload it, use:\n",
      "  %reload_ext autoreload\n"
     ]
    }
   ],
   "source": [
    "%load_ext autoreload\n",
    "%autoreload 2\n",
    "from data.api_fetcher import ApiFetcher"
   ]
  },
  {
   "cell_type": "markdown",
   "id": "0969881d",
   "metadata": {},
   "source": [
    "## ✨ Introduction"
   ]
  },
  {
   "cell_type": "markdown",
   "id": "0d51a28b",
   "metadata": {},
   "source": [
    "-- todo --\n"
   ]
  },
  {
   "cell_type": "markdown",
   "id": "016e6b4d",
   "metadata": {},
   "source": [
    "## Sandbox\n",
    "-- na razie do testowania api --"
   ]
  },
  {
   "cell_type": "code",
   "execution_count": 14,
   "id": "4e0b94a6",
   "metadata": {},
   "outputs": [
    {
     "name": "stdout",
     "output_type": "stream",
     "text": [
      "           id             full_name abbreviation   nickname         city  \\\n",
      "0  1610612737         Atlanta Hawks          ATL      Hawks      Atlanta   \n",
      "1  1610612738        Boston Celtics          BOS    Celtics       Boston   \n",
      "2  1610612739   Cleveland Cavaliers          CLE  Cavaliers    Cleveland   \n",
      "3  1610612740  New Orleans Pelicans          NOP   Pelicans  New Orleans   \n",
      "4  1610612741         Chicago Bulls          CHI      Bulls      Chicago   \n",
      "\n",
      "           state  year_founded  \n",
      "0        Georgia          1949  \n",
      "1  Massachusetts          1946  \n",
      "2           Ohio          1970  \n",
      "3      Louisiana          2002  \n",
      "4       Illinois          1966  \n",
      "123\n"
     ]
    }
   ],
   "source": [
    "api = ApiFetcher()\n",
    "list = api.teams\n",
    "\n",
    "df = pd.DataFrame(list)\n",
    "print(df.head())\n",
    "\n",
    "print(\"123\")"
   ]
  }
 ],
 "metadata": {
  "kernelspec": {
   "display_name": ".venv (3.13.3)",
   "language": "python",
   "name": "python3"
  },
  "language_info": {
   "codemirror_mode": {
    "name": "ipython",
    "version": 3
   },
   "file_extension": ".py",
   "mimetype": "text/x-python",
   "name": "python",
   "nbconvert_exporter": "python",
   "pygments_lexer": "ipython3",
   "version": "3.13.3"
  }
 },
 "nbformat": 4,
 "nbformat_minor": 5
}
