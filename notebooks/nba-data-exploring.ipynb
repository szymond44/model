{
 "cells": [
  {
   "cell_type": "markdown",
   "id": "51b1e845",
   "metadata": {
    "vscode": {
     "languageId": "plaintext"
    }
   },
   "source": [
    "# 🏀 NBA Team Points Prediction Model\n",
    "🙋 **authors**: szymond44, gwiazdan  \n",
    "📆 **date**: 21-07-2025  \n"
   ]
  },
  {
   "cell_type": "code",
   "execution_count": 6,
   "id": "0f3d8b38",
   "metadata": {},
   "outputs": [],
   "source": [
    "import sys\n",
    "import os\n",
    "sys.path.append(os.path.abspath(os.path.join('..', 'src')))"
   ]
  },
  {
   "cell_type": "code",
   "execution_count": 10,
   "id": "553e5f11",
   "metadata": {},
   "outputs": [
    {
     "name": "stdout",
     "output_type": "stream",
     "text": [
      "The autoreload extension is already loaded. To reload it, use:\n",
      "  %reload_ext autoreload\n"
     ]
    }
   ],
   "source": [
    "%load_ext autoreload\n",
    "%autoreload 2\n",
    "from data.api_fetcher import ApiFetcher"
   ]
  },
  {
   "cell_type": "markdown",
   "id": "0969881d",
   "metadata": {},
   "source": [
    "## ✨ Introduction"
   ]
  },
  {
   "cell_type": "markdown",
   "id": "0d51a28b",
   "metadata": {},
   "source": [
    "-- todo --\n"
   ]
  },
  {
   "cell_type": "markdown",
   "id": "016e6b4d",
   "metadata": {},
   "source": [
    "## Sandbox\n",
    "-- na razie do testowania api --"
   ]
  },
  {
   "cell_type": "code",
   "execution_count": null,
   "id": "4e0b94a6",
   "metadata": {},
   "outputs": [],
   "source": [
    "api = ApiFetcher()\n",
    "\n",
    "print(api.teams)"
   ]
  }
 ],
 "metadata": {
  "kernelspec": {
   "display_name": ".venv (3.13.3)",
   "language": "python",
   "name": "python3"
  },
  "language_info": {
   "codemirror_mode": {
    "name": "ipython",
    "version": 3
   },
   "file_extension": ".py",
   "mimetype": "text/x-python",
   "name": "python",
   "nbconvert_exporter": "python",
   "pygments_lexer": "ipython3",
   "version": "3.13.3"
  }
 },
 "nbformat": 4,
 "nbformat_minor": 5
}
