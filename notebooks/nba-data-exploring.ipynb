{
 "cells": [
  {
   "cell_type": "markdown",
   "id": "51b1e845",
   "metadata": {
    "vscode": {
     "languageId": "plaintext"
    }
   },
   "source": [
    "# 🏀 NBA Team Points Prediction Model\n",
    "🙋 **authors**: szymond44, gwiazdan  \n",
    "📆 **date**: 21-07-2025  \n"
   ]
  },
  {
   "cell_type": "code",
   "execution_count": 6,
   "id": "0f3d8b38",
   "metadata": {},
   "outputs": [],
   "source": [
    "import sys\n",
    "import os\n",
    "sys.path.append(os.path.abspath(os.path.join('..', 'src')))"
   ]
  },
  {
   "cell_type": "code",
   "execution_count": 10,
   "id": "553e5f11",
   "metadata": {},
   "outputs": [
    {
     "name": "stdout",
     "output_type": "stream",
     "text": [
      "The autoreload extension is already loaded. To reload it, use:\n",
      "  %reload_ext autoreload\n"
     ]
    }
   ],
   "source": [
    "%load_ext autoreload\n",
    "%autoreload 2\n",
    "from data.api_fetcher import ApiFetcher"
   ]
  },
  {
   "cell_type": "markdown",
   "id": "0969881d",
   "metadata": {},
   "source": [
    "## ✨ Introduction"
   ]
  },
  {
   "cell_type": "markdown",
   "id": "0d51a28b",
   "metadata": {},
   "source": [
    "-- todo --\n"
   ]
  },
  {
   "cell_type": "markdown",
   "id": "016e6b4d",
   "metadata": {},
   "source": [
    "## Sandbox\n",
    "-- na razie do testowania api --"
   ]
  },
  {
   "cell_type": "code",
   "execution_count": null,
   "id": "4e0b94a6",
   "metadata": {},
   "outputs": [
    {
     "ename": "NameError",
     "evalue": "name 'ApiFetcher' is not defined",
     "output_type": "error",
     "traceback": [
      "\u001b[31m---------------------------------------------------------------------------\u001b[39m",
      "\u001b[31mNameError\u001b[39m                                 Traceback (most recent call last)",
      "\u001b[36mCell\u001b[39m\u001b[36m \u001b[39m\u001b[32mIn[1]\u001b[39m\u001b[32m, line 1\u001b[39m\n\u001b[32m----> \u001b[39m\u001b[32m1\u001b[39m api = \u001b[43mApiFetcher\u001b[49m()\n\u001b[32m      3\u001b[39m \u001b[38;5;28mprint\u001b[39m(api.data.head())\n",
      "\u001b[31mNameError\u001b[39m: name 'ApiFetcher' is not defined"
     ]
    }
   ],
   "source": [
    "%reload_ext autoreload\n",
    "api = ApiFetcher()\n",
    "\n",
    "print(api.data.head())"
   ]
  }
 ],
 "metadata": {
  "kernelspec": {
   "display_name": ".venv (3.13.3)",
   "language": "python",
   "name": "python3"
  },
  "language_info": {
   "codemirror_mode": {
    "name": "ipython",
    "version": 3
   },
   "file_extension": ".py",
   "mimetype": "text/x-python",
   "name": "python",
   "nbconvert_exporter": "python",
   "pygments_lexer": "ipython3",
   "version": "3.13.3"
  }
 },
 "nbformat": 4,
 "nbformat_minor": 5
}
