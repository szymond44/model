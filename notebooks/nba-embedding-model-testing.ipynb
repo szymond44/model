{
 "cells": [
  {
   "cell_type": "markdown",
   "id": "664ef35d",
   "metadata": {},
   "source": [
    "# 🏀 NBA Team Points Prediction Model \n",
    "📈 Embedding Model Testing \n",
    "---\n",
    "🙋 **authors**: szymond44, gwiazdan  \n",
    "📆 **date**: 21-07-2025  \n"
   ]
  },
  {
   "cell_type": "code",
   "execution_count": 2,
   "id": "56dfa07e",
   "metadata": {},
   "outputs": [],
   "source": [
    "import sys\n",
    "import os\n",
    "import pandas as pd\n",
    "import numpy as np\n",
    "from sklearn.preprocessing import StandardScaler\n",
    "import torch\n",
    "from torch.utils.data import Dataset, DataLoader\n",
    "import torch.nn.functional as F\n",
    "import torch.optim as optim\n",
    "import torch.nn as nn\n",
    "import matplotlib.pyplot as plt\n",
    "sys.path.append(os.path.abspath(os.path.join('..', 'src')))"
   ]
  },
  {
   "cell_type": "code",
   "execution_count": 3,
   "id": "5419129a",
   "metadata": {},
   "outputs": [],
   "source": [
    "%load_ext autoreload\n",
    "%autoreload 2\n",
    "from data.api_fetcher import ApiFetcher"
   ]
  },
  {
   "cell_type": "code",
   "execution_count": 4,
   "id": "49b19542",
   "metadata": {},
   "outputs": [],
   "source": [
    "api = ApiFetcher(starting_year=2014, ending_year=2025)\n",
    "df = api.get_dataframe(numeric=False, date=True, time_coeff=False, ids=True)"
   ]
  },
  {
   "cell_type": "code",
   "execution_count": 5,
   "id": "39b49494",
   "metadata": {},
   "outputs": [],
   "source": [
    "df1 = df.copy()\n",
    "cols_to_drop = [col for col in ['home_team', 'away_team'] if col in df1.columns]\n",
    "df1.drop(cols_to_drop, axis=1, inplace=True)"
   ]
  },
  {
   "cell_type": "code",
   "execution_count": 6,
   "id": "c04547e2",
   "metadata": {},
   "outputs": [],
   "source": [
    "def prep_df(df1, target_cols=['home_pts', 'away_pts'], scaler=None):\n",
    "    team_id_cols = ['home_team_id', 'away_team_id']\n",
    "    exclude_cols = target_cols + team_id_cols + ['date', 'home_team', 'away_team']\n",
    "    numeric_cols = [col for col in df1.columns if col not in exclude_cols]\n",
    "\n",
    "\n",
    "    X_numeric_raw = df1[numeric_cols].values\n",
    "    X_team_ids = df1[team_id_cols].astype(int).values\n",
    "    y = df1[target_cols].values \n",
    "    if scaler is None:\n",
    "        scaler = StandardScaler()\n",
    "        X_numeric = scaler.fit_transform(X_numeric_raw)\n",
    "    else:\n",
    "        X_numeric = scaler.transform(X_numeric_raw)\n",
    "\n",
    "    return X_numeric, X_team_ids, y, scaler, numeric_cols"
   ]
  },
  {
   "cell_type": "markdown",
   "id": "832319c7",
   "metadata": {},
   "source": [
    "📄 **Model Concept**  \n",
    "The goal of this model is to learn adaptive vector representations (embeddings) for each NBA team based on their performance statistics. These embeddings are trained jointly with the model and capture latent characteristics of each team. The model uses embeddings to predict the points scored by the home and away teams in a game."
   ]
  },
  {
   "cell_type": "code",
   "execution_count": 7,
   "id": "20b50f7a",
   "metadata": {},
   "outputs": [],
   "source": [
    "class TeamEmbeddingNN(nn.Module):\n",
    "    def __init__(self, num_teams, embedding_dim, num_numeric_features):\n",
    "        super(TeamEmbeddingNN, self).__init__()\n",
    "        \n",
    "        # Embedding layers for home and away teams\n",
    "        self.home_embedding = nn.Embedding(num_teams, embedding_dim)\n",
    "        self.away_embedding = nn.Embedding(num_teams, embedding_dim)\n",
    "        \n",
    "        # Input layer size = numeric features + 2 embeddings concatenated\n",
    "        input_size = num_numeric_features + embedding_dim * 2\n",
    "        \n",
    "        # Hidden layers\n",
    "        self.fc1 = nn.Linear(input_size, 64)\n",
    "        self.fc2 = nn.Linear(64, 32)\n",
    "        \n",
    "        # Output layer (predict home_pts and away_pts)\n",
    "        self.out = nn.Linear(32, 2)\n",
    "        \n",
    "    def forward(self, numeric_features, team_ids):\n",
    "        \n",
    "        home_emb = self.home_embedding(team_ids[:, 0])\n",
    "        away_emb = self.away_embedding(team_ids[:, 1])\n",
    "        \n",
    "        # Concatenate embeddings with numeric features\n",
    "        x = torch.cat([numeric_features, home_emb, away_emb], dim=1)\n",
    "        \n",
    "        # Forward pass through hidden layers\n",
    "        x = F.relu(self.fc1(x))\n",
    "        x = F.relu(self.fc2(x))\n",
    "        \n",
    "        # Output predicted points\n",
    "        out = self.out(x)\n",
    "        return out\n",
    "\n"
   ]
  },
  {
   "cell_type": "markdown",
   "id": "55f53e25",
   "metadata": {},
   "source": [
    "🔄  **Model Training**  \n",
    "We train the model multiple times (20 runs) to evaluate its stability and performance variability. Each run involves training the model from scratch and evaluating it on a test set. We collect the test Mean Squared Error (MSE) from each run to analyze the distribution of errors."
   ]
  },
  {
   "cell_type": "code",
   "execution_count": 11,
   "id": "5269a33e",
   "metadata": {},
   "outputs": [
    {
     "name": "stderr",
     "output_type": "stream",
     "text": [
      "c:\\Users\\szymo\\AppData\\Local\\Programs\\Python\\Python313\\Lib\\site-packages\\numpy\\_core\\fromnumeric.py:57: FutureWarning: 'DataFrame.swapaxes' is deprecated and will be removed in a future version. Please use 'DataFrame.transpose' instead.\n",
      "  return bound(*args, **kwds)\n"
     ]
    }
   ],
   "source": [
    "df_sorted = df1.sort_values(\"date\")\n",
    "train_df, val_df, test_df = np.split(\n",
    "    df_sorted, \n",
    "    [int(0.7*len(df_sorted)), int(0.85*len(df_sorted))]\n",
    ")\n",
    "\n",
    "X_train_num, X_train_ids, y_train, scaler, numeric_cols = prep_df(train_df)\n",
    "X_val_num, X_val_ids, y_val, _, _ = prep_df(val_df, scaler=scaler)\n",
    "X_test_num, X_test_ids, y_test, _, _ = prep_df(test_df, scaler=scaler)\n",
    "\n",
    "class NBAEmbeddingDataset(Dataset):\n",
    "    def __init__(self, X_numeric, X_team_ids, y):\n",
    "        self.X_numeric = torch.tensor(X_numeric, dtype=torch.float32)\n",
    "        self.X_team_ids = torch.tensor(X_team_ids, dtype=torch.long)\n",
    "        self.y = torch.tensor(y, dtype=torch.float32)\n",
    "    def __len__(self):\n",
    "        return len(self.y)\n",
    "    def __getitem__(self, idx):\n",
    "        return self.X_numeric[idx], self.X_team_ids[idx], self.y[idx]\n",
    "\n",
    "train_dataset = NBAEmbeddingDataset(X_train_num, X_train_ids, y_train)\n",
    "val_dataset = NBAEmbeddingDataset(X_val_num, X_val_ids, y_val)\n",
    "test_dataset = NBAEmbeddingDataset(X_test_num, X_test_ids, y_test)\n",
    "\n",
    "num_teams = df1['home_team_id'].nunique()\n",
    "embedding_dim = 8\n",
    "num_numeric_features = X_train_num.shape[1]\n",
    "\n",
    "def train_and_evaluate():\n",
    "    train_loader = DataLoader(train_dataset, batch_size=64, shuffle=True)\n",
    "    val_loader = DataLoader(val_dataset, batch_size=64, shuffle=False)\n",
    "    test_loader = DataLoader(test_dataset, batch_size=64, shuffle=False)\n",
    "\n",
    "    model = TeamEmbeddingNN(num_teams, embedding_dim, num_numeric_features)\n",
    "\n",
    "    criterion = nn.MSELoss()\n",
    "    learning_rate = 0.009187\n",
    "    optimizer = optim.Adam(model.parameters(), lr=learning_rate)\n",
    "\n",
    "    num_epochs = 250\n",
    "\n",
    "    train_losses = []\n",
    "    val_losses = []\n",
    "\n",
    "    for epoch in range(num_epochs):\n",
    "        model.train()\n",
    "        train_loss_epoch = 0\n",
    "        for X_num_batch, X_ids_batch, y_batch in train_loader:\n",
    "            optimizer.zero_grad()\n",
    "            outputs = model(X_num_batch, X_ids_batch)\n",
    "            loss = criterion(outputs, y_batch)\n",
    "            loss.backward()\n",
    "            optimizer.step()\n",
    "            train_loss_epoch += loss.item() * X_num_batch.size(0)\n",
    "        train_loss_epoch /= len(train_loader.dataset)\n",
    "        train_losses.append(train_loss_epoch)\n",
    "\n",
    "        model.eval()\n",
    "        val_loss_epoch = 0\n",
    "        with torch.no_grad():\n",
    "            for X_num_batch, X_ids_batch, y_batch in val_loader:\n",
    "                outputs = model(X_num_batch, X_ids_batch)\n",
    "                loss = criterion(outputs, y_batch)\n",
    "                val_loss_epoch += loss.item() * X_num_batch.size(0)\n",
    "        val_loss_epoch /= len(val_loader.dataset)\n",
    "        val_losses.append(val_loss_epoch)\n",
    "\n",
    "    model.eval()\n",
    "    test_loss = 0\n",
    "    with torch.no_grad():\n",
    "        for X_num_batch, X_ids_batch, y_batch in test_loader:\n",
    "            outputs = model(X_num_batch, X_ids_batch)\n",
    "            loss = criterion(outputs, y_batch)\n",
    "            test_loss += loss.item() * X_num_batch.size(0)\n",
    "    \n",
    "    home_embeddings = model.home_embedding.weight.detach().cpu().numpy()\n",
    "    away_embeddings = model.away_embedding.weight.detach().cpu().numpy()\n",
    "\n",
    "    \n",
    "    return test_loss / len(test_loader.dataset), model, home_embeddings, away_embeddings\n",
    "\n",
    "\n",
    "N = 1\n",
    "results = [train_and_evaluate() for _ in range(N)]"
   ]
  },
  {
   "cell_type": "code",
   "execution_count": 12,
   "id": "81276360",
   "metadata": {},
   "outputs": [
    {
     "name": "stdout",
     "output_type": "stream",
     "text": [
      "Average Test MSE: 14.8069 ± 0.0000\n",
      "Minimal Test MSE: 14.806922488474955\n",
      "Minimal error std: 3.8479764147503497\n",
      "Average error std: 3.8479764147503497\n"
     ]
    }
   ],
   "source": [
    "test_losses = [r[0] for r in results]\n",
    "models = [r[1] for r in results]\n",
    "home_embeddings_list = [r[2] for r in results]\n",
    "away_embeddings_list = [r[3] for r in results]\n",
    "\n",
    "print(f\"Average Test MSE: {np.mean(test_losses):.4f} ± {np.std(test_losses):.4f}\")\n",
    "print(f\"Minimal Test MSE: {np.min(test_losses)}\")\n",
    "best_model = models[np.argmin(test_losses)]\n",
    "average_model = models[np.argsort(test_losses)[N//2]]\n",
    "median_idx = np.argsort(test_losses)[N // 2]\n",
    "average_model = models[median_idx]\n",
    "average_embeddings_home = home_embeddings_list[median_idx]\n",
    "average_embeddings_away = away_embeddings_list[median_idx]\n",
    "\n",
    "print(f\"Minimal error std: {np.sqrt(np.min(test_losses))}\")\n",
    "print(f\"Average error std: {np.sqrt(np.average(test_losses))}\")"
   ]
  },
  {
   "cell_type": "code",
   "execution_count": 15,
   "id": "098746df",
   "metadata": {},
   "outputs": [],
   "source": [
    "class EmbeddingFetcher:\n",
    "    def __init__(self, home_embeddings, away_embeddings):\n",
    "        self.home_embeddings = home_embeddings\n",
    "        self.away_embeddings = away_embeddings\n",
    "\n",
    "    def get_home_embedding(self, team_id):\n",
    "        return self.home_embeddings[team_id]\n",
    "\n",
    "    def get_away_embedding(self, team_id):\n",
    "        return self.away_embeddings[team_id]\n",
    "\n",
    "    def get_all_home_embeddings(self):\n",
    "        return self.home_embeddings\n",
    "\n",
    "    def get_all_away_embeddings(self):\n",
    "        return self.away_embeddings\n"
   ]
  },
  {
   "cell_type": "code",
   "execution_count": 16,
   "id": "91b3cd73",
   "metadata": {},
   "outputs": [
    {
     "name": "stdout",
     "output_type": "stream",
     "text": [
      "\n",
      "Home embedding for team 5: [-1.2377415  -0.0260021   1.459951   -0.05860002 -0.55239844 -1.8509934\n",
      "  0.18402612 -0.22666268]\n",
      "\n",
      "Away embedding for team 5: [ 0.24408998  0.82879287  1.646302    2.4544282  -0.28758845 -0.36612493\n",
      "  1.7326348  -0.17825991]\n",
      "\n",
      "All home embeddings shape: (31, 8)\n",
      "All away embeddings shape: (31, 8)\n"
     ]
    }
   ],
   "source": [
    "average_home_embeddings = home_embeddings_list[median_idx]\n",
    "average_away_embeddings = away_embeddings_list[median_idx]\n",
    "\n",
    "fetcher = EmbeddingFetcher(average_home_embeddings, average_away_embeddings)\n",
    "team_id = 5\n",
    "print(\"\\nHome embedding for team 5:\", fetcher.get_home_embedding(team_id))\n",
    "print(\"\\nAway embedding for team 5:\", fetcher.get_away_embedding(team_id))\n",
    "\n",
    "print(\"\\nAll home embeddings shape:\", fetcher.get_all_home_embeddings().shape)\n",
    "print(\"All away embeddings shape:\", fetcher.get_all_away_embeddings().shape)\n"
   ]
  },
  {
   "cell_type": "code",
   "execution_count": 16,
   "id": "c62919fa",
   "metadata": {},
   "outputs": [
    {
     "data": {
      "image/png": "[encoded data removed]",
      "text/plain": [
       "<Figure size 1000x600 with 1 Axes>"
      ]
     },
     "metadata": {},
     "output_type": "display_data"
    }
   ],
   "source": [
    "plt.figure(figsize=(10, 6))\n",
    "plt.hist(test_losses, bins=15, alpha=0.7, color='skyblue', edgecolor='black')\n",
    "plt.xlabel('Test MSE')\n",
    "plt.ylabel('Frequency')\n",
    "plt.title('Distribution of Test MSE across 100 runs')\n",
    "plt.axvline(np.mean(test_losses), color='red', linestyle='--', label=f'Mean: {np.mean(test_losses):.4f}')\n",
    "plt.axvline(np.median(test_losses), color='green', linestyle='--', label=f'Median: {np.median(test_losses):.4f}')\n",
    "plt.legend()\n",
    "plt.grid(True, alpha=0.3)\n",
    "plt.show()"
   ]
  },
  {
   "cell_type": "markdown",
   "id": "18e42673",
   "metadata": {},
   "source": [
    "✏️ **Conclusions**  \n",
    "The graphic above shows that the model's performance is relatively stable across multiple runs, with most test MSE values clustering around the mean. However, there are a few outliers with significantly higher or lower MSE values, indicating that the model's performance can vary depending on the initialization and training process. The overall result is satisfactory as it will be used as a submodel in a more complex ensemble model."
   ]
  }
 ],
 "metadata": {
  "kernelspec": {
   "display_name": "Python 3",
   "language": "python",
   "name": "python3"
  },
  "language_info": {
   "codemirror_mode": {
    "name": "ipython",
    "version": 3
   },
   "file_extension": ".py",
   "mimetype": "text/x-python",
   "name": "python",
   "nbconvert_exporter": "python",
   "pygments_lexer": "ipython3",
   "version": "3.13.3"
  }
 },
 "nbformat": 4,
 "nbformat_minor": 5
}
