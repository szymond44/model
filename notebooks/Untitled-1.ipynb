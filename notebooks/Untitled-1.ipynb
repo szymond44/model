{
 "cells": [
  {
   "cell_type": "code",
   "execution_count": 1,
   "id": "67d3fefe",
   "metadata": {},
   "outputs": [],
   "source": [
    "import sys\n",
    "import os\n",
    "import pandas as pd\n",
    "import numpy as np\n",
    "from sklearn.preprocessing import StandardScaler\n",
    "import torch\n",
    "from torch.utils.data import Dataset, DataLoader\n",
    "import torch.nn.functional as F\n",
    "import torch.optim as optim\n",
    "import torch.nn as nn\n",
    "import matplotlib.pyplot as plt\n",
    "sys.path.append(os.path.abspath(os.path.join('..', 'src')))"
   ]
  },
  {
   "cell_type": "code",
   "execution_count": null,
   "id": "0d182eaf",
   "metadata": {},
   "outputs": [
    {
     "name": "stdout",
     "output_type": "stream",
     "text": [
      "The autoreload extension is already loaded. To reload it, use:\n",
      "  %reload_ext autoreload\n"
     ]
    }
   ],
   "source": [
    "%load_ext autoreload\n",
    "%autoreload 2\n",
    "from data.api_fetcher import ApiFetcher\n",
    "from model.team_embeddings import EmbeddingFetcher\n",
    "from model.team_embeddings import TeamEmbeddingsModel"
   ]
  },
  {
   "cell_type": "code",
   "execution_count": null,
   "id": "3ba53cee",
   "metadata": {},
   "outputs": [],
   "source": [
    "api = ApiFetcher(starting_year=2019, ending_year=2025)\n",
    "df = api.get_dataframe(numeric=False, date=True, time_coeff=False, ids=True)"
   ]
  },
  {
   "cell_type": "code",
   "execution_count": 43,
   "id": "7955d2b6",
   "metadata": {},
   "outputs": [
    {
     "name": "stderr",
     "output_type": "stream",
     "text": [
      "c:\\Users\\szymo\\AppData\\Local\\Programs\\Python\\Python313\\Lib\\site-packages\\numpy\\_core\\fromnumeric.py:57: FutureWarning: 'DataFrame.swapaxes' is deprecated and will be removed in a future version. Please use 'DataFrame.transpose' instead.\n",
      "  return bound(*args, **kwds)\n"
     ]
    },
    {
     "name": "stdout",
     "output_type": "stream",
     "text": [
      "Test MSE: 19.605910043409956\n"
     ]
    }
   ],
   "source": [
    "trainer = TeamEmbeddingsModel(df)\n",
    "test_mse, trained_model = trainer.train()\n",
    "print(\"Test MSE:\", test_mse)"
   ]
  },
  {
   "cell_type": "code",
   "execution_count": 44,
   "id": "771d0df6",
   "metadata": {},
   "outputs": [],
   "source": [
    "home_embeddings = trained_model.home_embedding.weight.detach().cpu().numpy()\n",
    "away_embeddings = trained_model.away_embedding.weight.detach().cpu().numpy()\n",
    "embeddings_fetcher = EmbeddingFetcher(home_embeddings, away_embeddings)\n"
   ]
  },
  {
   "cell_type": "code",
   "execution_count": 45,
   "id": "46a3a3a4",
   "metadata": {},
   "outputs": [],
   "source": [
    "def prep_df(df1, target_cols=['home_pts', 'away_pts'], scaler=None):\n",
    "    team_id_cols = ['home_team_id', 'away_team_id']\n",
    "    exclude_cols = target_cols + team_id_cols + ['date', 'home_team', 'away_team']\n",
    "    numeric_cols = [col for col in df1.columns if col not in exclude_cols]\n",
    "\n",
    "\n",
    "    X_numeric_raw = df1[numeric_cols].values\n",
    "    X_team_ids = df1[team_id_cols].astype(int).values\n",
    "    y = df1[target_cols].sum(axis=1).values\n",
    "    if scaler is None:\n",
    "        scaler = StandardScaler()\n",
    "        X_numeric = scaler.fit_transform(X_numeric_raw)\n",
    "    else:\n",
    "        X_numeric = scaler.transform(X_numeric_raw)\n",
    "\n",
    "    return X_numeric, X_team_ids, y, scaler, numeric_cols"
   ]
  },
  {
   "cell_type": "code",
   "execution_count": 46,
   "id": "8a6c4bf0",
   "metadata": {},
   "outputs": [],
   "source": [
    "class NBAEmbeddingDataset(Dataset):\n",
    "    def __init__(self, X_numeric, X_team_ids, y, fetcher):\n",
    "        self.X_numeric = torch.tensor(X_numeric, dtype=torch.float32)\n",
    "        self.X_team_ids = torch.tensor(X_team_ids, dtype=torch.long)\n",
    "        self.y = torch.tensor(y, dtype=torch.float32)\n",
    "        self.fetcher = fetcher\n",
    "        \n",
    "    def __len__(self):\n",
    "        return len(self.y)\n",
    "    \n",
    "    def __getitem__(self, idx):\n",
    "        numeric_features = self.X_numeric[idx]\n",
    "        home_id, away_id = self.X_team_ids[idx]\n",
    "        # Fetch embeddings\n",
    "        home_emb = torch.tensor(self.fetcher.get_home_embedding(home_id), dtype=torch.float32)\n",
    "        away_emb = torch.tensor(self.fetcher.get_away_embedding(away_id), dtype=torch.float32)\n",
    "        return numeric_features, home_emb, away_emb, self.y[idx]"
   ]
  },
  {
   "cell_type": "code",
   "execution_count": 57,
   "id": "a8a93920",
   "metadata": {},
   "outputs": [],
   "source": [
    "class MiniNN(nn.Module):\n",
    "    def __init__(self, num_numeric_features, embedding_dim):\n",
    "        super(MiniNN, self).__init__()\n",
    "        input_size = num_numeric_features + embedding_dim*2\n",
    "        \n",
    "        # Two hidden layers: 64 and 32 neurons\n",
    "        self.fc1 = nn.Linear(input_size, 64)\n",
    "        self.fc2 = nn.Linear(64, 32)\n",
    "        self.out = nn.Linear(32, 1)  \n",
    "        \n",
    "    def forward(self, numeric_features, home_emb, away_emb):\n",
    "        # Concatenate numeric features and embeddings\n",
    "        x = torch.cat([numeric_features, home_emb, away_emb], dim=1)\n",
    "        x = F.relu(self.fc1(x))\n",
    "        x = F.relu(self.fc2(x))\n",
    "        return self.out(x).squeeze(1)  \n"
   ]
  },
  {
   "cell_type": "code",
   "execution_count": 63,
   "id": "75ed52b9",
   "metadata": {},
   "outputs": [],
   "source": [
    "def train_model(df, fetcher, embedding_dim, num_epochs, lr, batch_size=64,):\n",
    "    # Sort and split\n",
    "    df_sorted = df.sort_values(\"date\")\n",
    "    train_df, val_df, test_df = np.split(\n",
    "        df_sorted, \n",
    "        [int(0.7*len(df_sorted)), int(0.85*len(df_sorted))]\n",
    "    )\n",
    "    \n",
    "    X_train_num, X_train_ids, y_train, scaler, numeric_cols = prep_df(train_df)\n",
    "    X_val_num, X_val_ids, y_val, _, _ = prep_df(val_df, scaler=scaler)\n",
    "    X_test_num, X_test_ids, y_test, _, _ = prep_df(test_df, scaler=scaler)\n",
    "    \n",
    "    # Datasets\n",
    "    train_dataset = NBAEmbeddingDataset(X_train_num, X_train_ids, y_train, fetcher)\n",
    "    val_dataset = NBAEmbeddingDataset(X_val_num, X_val_ids, y_val, fetcher)\n",
    "    test_dataset = NBAEmbeddingDataset(X_test_num, X_test_ids, y_test, fetcher)\n",
    "    \n",
    "    train_loader = DataLoader(train_dataset, batch_size=batch_size, shuffle=True)\n",
    "    val_loader = DataLoader(val_dataset, batch_size=batch_size, shuffle=False)\n",
    "    test_loader = DataLoader(test_dataset, batch_size=batch_size, shuffle=False)\n",
    "    \n",
    "    # Model\n",
    "    num_numeric_features = X_train_num.shape[1]\n",
    "    model = MiniNN(num_numeric_features, embedding_dim)\n",
    "    \n",
    "    criterion = nn.MSELoss()\n",
    "    optimizer = optim.Adam(model.parameters(), lr=lr)\n",
    "    \n",
    "    # Training loop\n",
    "    for epoch in range(num_epochs):\n",
    "        model.train()\n",
    "        train_loss = 0\n",
    "        for X_num, home_emb, away_emb, y in train_loader:\n",
    "            optimizer.zero_grad()\n",
    "            pred = model(X_num, home_emb, away_emb)\n",
    "            loss = criterion(pred, y)\n",
    "            loss.backward()\n",
    "            optimizer.step()\n",
    "            train_loss += loss.item() * X_num.size(0)\n",
    "        train_loss /= len(train_loader.dataset)\n",
    "        \n",
    "        # Validation\n",
    "        model.eval()\n",
    "        val_loss = 0\n",
    "        with torch.no_grad():\n",
    "            for X_num, home_emb, away_emb, y in val_loader:\n",
    "                pred = model(X_num, home_emb, away_emb)\n",
    "                val_loss += criterion(pred, y).item() * X_num.size(0)\n",
    "        val_loss /= len(val_loader.dataset)\n",
    "        \n",
    "        if (epoch+1) % 10 == 0:\n",
    "            print(f\"Epoch {epoch+1}/{num_epochs} | Train MSE: {train_loss:.4f} | Val MSE: {val_loss:.4f}\")\n",
    "    \n",
    "    # Test MSE\n",
    "    model.eval()\n",
    "    test_loss = 0\n",
    "    with torch.no_grad():\n",
    "        for X_num, home_emb, away_emb, y in test_loader:\n",
    "            pred = model(X_num, home_emb, away_emb)\n",
    "            test_loss += criterion(pred, y).item() * X_num.size(0)\n",
    "    test_loss /= len(test_loader.dataset)\n",
    "    print(f\"Test MSE: {test_loss:.4f}\")\n",
    "    \n",
    "    return model, scaler, numeric_cols\n",
    "    "
   ]
  },
  {
   "cell_type": "code",
   "execution_count": 68,
   "id": "51cdf854",
   "metadata": {},
   "outputs": [
    {
     "name": "stderr",
     "output_type": "stream",
     "text": [
      "c:\\Users\\szymo\\AppData\\Local\\Programs\\Python\\Python313\\Lib\\site-packages\\numpy\\_core\\fromnumeric.py:57: FutureWarning: 'DataFrame.swapaxes' is deprecated and will be removed in a future version. Please use 'DataFrame.transpose' instead.\n",
      "  return bound(*args, **kwds)\n"
     ]
    },
    {
     "name": "stdout",
     "output_type": "stream",
     "text": [
      "Epoch 10/100 | Train MSE: 47.3264 | Val MSE: 51.9393\n",
      "Epoch 20/100 | Train MSE: 39.2278 | Val MSE: 56.6664\n",
      "Epoch 30/100 | Train MSE: 37.8138 | Val MSE: 47.1676\n",
      "Epoch 40/100 | Train MSE: 33.8047 | Val MSE: 47.3127\n",
      "Epoch 50/100 | Train MSE: 34.7763 | Val MSE: 49.1492\n",
      "Epoch 60/100 | Train MSE: 34.0830 | Val MSE: 45.6843\n",
      "Epoch 70/100 | Train MSE: 31.5679 | Val MSE: 47.8563\n",
      "Epoch 80/100 | Train MSE: 34.1696 | Val MSE: 48.3356\n",
      "Epoch 90/100 | Train MSE: 33.3236 | Val MSE: 67.5184\n",
      "Epoch 100/100 | Train MSE: 28.8428 | Val MSE: 51.8205\n",
      "Test MSE: 59.0572\n"
     ]
    }
   ],
   "source": [
    "embedding_dim = home_embeddings.shape[1]\n",
    "model, scaler, numeric_cols = train_model(df, embeddings_fetcher, embedding_dim, num_epochs=100, lr=0.01)"
   ]
  }
 ],
 "metadata": {
  "kernelspec": {
   "display_name": "Python 3",
   "language": "python",
   "name": "python3"
  },
  "language_info": {
   "codemirror_mode": {
    "name": "ipython",
    "version": 3
   },
   "file_extension": ".py",
   "mimetype": "text/x-python",
   "name": "python",
   "nbconvert_exporter": "python",
   "pygments_lexer": "ipython3",
   "version": "3.13.3"
  }
 },
 "nbformat": 4,
 "nbformat_minor": 5
}
