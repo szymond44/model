{
 "cells": [
  {
   "cell_type": "code",
   "execution_count": 1,
   "id": "a2867c44",
   "metadata": {},
   "outputs": [],
   "source": [
    "import sys\n",
    "import os\n",
    "import seaborn as sns\n",
    "import matplotlib.pyplot as plt\n",
    "from sklearn.linear_model import LinearRegression\n",
    "import pandas as pd\n",
    "sys.path.append(os.path.abspath(os.path.join('..', 'src')))\n",
    "%matplotlib inline"
   ]
  },
  {
   "cell_type": "code",
   "execution_count": 2,
   "id": "9468dae2",
   "metadata": {},
   "outputs": [],
   "source": [
    "%load_ext autoreload\n",
    "%autoreload 2\n",
    "from data.api_fetcher import ApiFetcher"
   ]
  },
  {
   "cell_type": "code",
   "execution_count": 15,
   "id": "3a4de0c4",
   "metadata": {},
   "outputs": [
    {
     "name": "stdout",
     "output_type": "stream",
     "text": [
      "      home_team_id  away_team_id  home_pts  away_pts\n",
      "0               15             1       120       107\n",
      "1                5            29        94        84\n",
      "2               13             6        91        99\n",
      "3               18            26        95        99\n",
      "4               24            13       116       106\n",
      "...            ...           ...       ...       ...\n",
      "1224            13            10        99        95\n",
      "1225            20            16        89        95\n",
      "1226            15            21       105        93\n",
      "1227            25            12       108       112\n",
      "1228            27             1       114        90\n",
      "\n",
      "[1229 rows x 4 columns]\n"
     ]
    }
   ],
   "source": [
    "%reload_ext autoreload\n",
    "api = ApiFetcher(starting_year=2012, ending_year=2013)\n",
    "df = api.df_with_id()\n",
    "print(df[['home_team_id', 'away_team_id', 'home_pts', 'away_pts']])\n"
   ]
  },
  {
   "cell_type": "code",
   "execution_count": 18,
   "id": "2b6faf84",
   "metadata": {},
   "outputs": [
    {
     "name": "stdout",
     "output_type": "stream",
     "text": [
      "Index(['home_fga', 'away_fga', 'home_fg_pct', 'away_fg_pct', 'home_fg3a',\n",
      "       'away_fg3a', 'home_fg3_pct', 'away_fg3_pct', 'home_oreb', 'away_oreb',\n",
      "       'home_dreb', 'away_dreb', 'home_ast', 'away_ast', 'home_stl',\n",
      "       'away_stl', 'home_blk', 'away_blk', 'home_tov', 'away_tov', 'home_pf',\n",
      "       'away_pf', 'home_pts', 'away_pts', 'home_team_id', 'away_team_id'],\n",
      "      dtype='object')\n"
     ]
    }
   ],
   "source": [
    "%reload_ext autoreload\n",
    "api = ApiFetcher(starting_year=2012, ending_year=2013)\n",
    "df = api.df_with_id()\n",
    "print(df.columns)"
   ]
  }
 ],
 "metadata": {
  "kernelspec": {
   "display_name": "Python 3",
   "language": "python",
   "name": "python3"
  },
  "language_info": {
   "codemirror_mode": {
    "name": "ipython",
    "version": 3
   },
   "file_extension": ".py",
   "mimetype": "text/x-python",
   "name": "python",
   "nbconvert_exporter": "python",
   "pygments_lexer": "ipython3",
   "version": "3.13.3"
  }
 },
 "nbformat": 4,
 "nbformat_minor": 5
}
