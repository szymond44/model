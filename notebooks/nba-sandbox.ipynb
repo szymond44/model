{
 "cells": [
  {
   "cell_type": "code",
   "execution_count": 4,
   "id": "c28ef0a7",
   "metadata": {},
   "outputs": [],
   "source": [
    "import sys\n",
    "import os\n",
    "import pandas as pd\n",
    "sys.path.append(os.path.abspath(os.path.join('..', 'src')))\n",
    "%matplotlib inline"
   ]
  },
  {
   "cell_type": "code",
   "execution_count": 8,
   "id": "9e1a386b",
   "metadata": {},
   "outputs": [
    {
     "name": "stdout",
     "output_type": "stream",
     "text": [
      "The autoreload extension is already loaded. To reload it, use:\n",
      "  %reload_ext autoreload\n"
     ]
    }
   ],
   "source": [
    "%load_ext autoreload\n",
    "%autoreload 2\n",
    "from data import ApiFetcher, DataPreparation\n",
    "import api.server as server"
   ]
  },
  {
   "cell_type": "code",
   "execution_count": null,
   "id": "42c96de5",
   "metadata": {},
   "outputs": [
    {
     "name": "stderr",
     "output_type": "stream",
     "text": [
      "INFO:     Will watch for changes in these directories: ['d:\\\\Projekty\\\\ML\\\\model\\\\notebooks']\n",
      "INFO:     Uvicorn running on http://127.0.0.1:8000 (Press CTRL+C to quit)\n",
      "INFO:     Started reloader process [7984] using StatReload\n"
     ]
    }
   ],
   "source": [
    "server.main()"
   ]
  },
  {
   "cell_type": "code",
   "execution_count": 6,
   "id": "29a4f4b8",
   "metadata": {},
   "outputs": [
    {
     "data": {
      "application/vnd.microsoft.datawrangler.viewer.v0+json": {
       "columns": [
        {
         "name": "index",
         "rawType": "int64",
         "type": "integer"
        },
        {
         "name": "home_fga",
         "rawType": "int64",
         "type": "integer"
        },
        {
         "name": "away_fga",
         "rawType": "int64",
         "type": "integer"
        },
        {
         "name": "home_fg_pct",
         "rawType": "float64",
         "type": "float"
        },
        {
         "name": "away_fg_pct",
         "rawType": "float64",
         "type": "float"
        },
        {
         "name": "home_fg3a",
         "rawType": "int64",
         "type": "integer"
        },
        {
         "name": "away_fg3a",
         "rawType": "int64",
         "type": "integer"
        },
        {
         "name": "home_fg3_pct",
         "rawType": "float64",
         "type": "float"
        },
        {
         "name": "away_fg3_pct",
         "rawType": "float64",
         "type": "float"
        },
        {
         "name": "home_oreb",
         "rawType": "int64",
         "type": "integer"
        },
        {
         "name": "away_oreb",
         "rawType": "int64",
         "type": "integer"
        },
        {
         "name": "home_dreb",
         "rawType": "int64",
         "type": "integer"
        },
        {
         "name": "away_dreb",
         "rawType": "int64",
         "type": "integer"
        },
        {
         "name": "home_ast",
         "rawType": "int64",
         "type": "integer"
        },
        {
         "name": "away_ast",
         "rawType": "int64",
         "type": "integer"
        },
        {
         "name": "home_stl",
         "rawType": "int64",
         "type": "integer"
        },
        {
         "name": "away_stl",
         "rawType": "int64",
         "type": "integer"
        },
        {
         "name": "home_blk",
         "rawType": "int64",
         "type": "integer"
        },
        {
         "name": "away_blk",
         "rawType": "int64",
         "type": "integer"
        },
        {
         "name": "home_tov",
         "rawType": "int64",
         "type": "integer"
        },
        {
         "name": "away_tov",
         "rawType": "int64",
         "type": "integer"
        },
        {
         "name": "home_pf",
         "rawType": "int64",
         "type": "integer"
        },
        {
         "name": "away_pf",
         "rawType": "int64",
         "type": "integer"
        },
        {
         "name": "home_pts",
         "rawType": "int64",
         "type": "integer"
        },
        {
         "name": "away_pts",
         "rawType": "int64",
         "type": "integer"
        },
        {
         "name": "home_team_id",
         "rawType": "int64",
         "type": "integer"
        },
        {
         "name": "away_team_id",
         "rawType": "int64",
         "type": "integer"
        },
        {
         "name": "date",
         "rawType": "object",
         "type": "string"
        }
       ],
       "ref": "0bd850e9-1365-46df-9be5-875b33b9e7d3",
       "rows": [
        [
         "0",
         "103",
         "102",
         "0.408",
         "0.422",
         "40",
         "45",
         "0.35",
         "0.422",
         "16",
         "16",
         "41",
         "37",
         "23",
         "30",
         "7",
         "4",
         "3",
         "9",
         "17",
         "19",
         "24",
         "34",
         "130",
         "122",
         "27",
         "18",
         "2019-10-22"
        ],
        [
         "1",
         "81",
         "85",
         "0.519",
         "0.435",
         "31",
         "33",
         "0.355",
         "0.394",
         "11",
         "9",
         "34",
         "32",
         "24",
         "20",
         "8",
         "4",
         "5",
         "7",
         "14",
         "15",
         "25",
         "24",
         "112",
         "102",
         "12",
         "13",
         "2019-10-22"
        ],
        [
         "2",
         "86",
         "88",
         "0.43",
         "0.375",
         "30",
         "34",
         "0.3",
         "0.265",
         "7",
         "10",
         "39",
         "44",
         "24",
         "20",
         "12",
         "8",
         "4",
         "2",
         "13",
         "16",
         "18",
         "15",
         "94",
         "85",
         "21",
         "5",
         "2019-10-23"
        ],
        [
         "3",
         "76",
         "93",
         "0.461",
         "0.398",
         "36",
         "41",
         "0.306",
         "0.268",
         "5",
         "11",
         "41",
         "36",
         "17",
         "26",
         "6",
         "6",
         "5",
         "3",
         "20",
         "17",
         "22",
         "32",
         "108",
         "100",
         "6",
         "29",
         "2019-10-23"
        ],
        [
         "4",
         "88",
         "105",
         "0.511",
         "0.467",
         "44",
         "30",
         "0.523",
         "0.3",
         "9",
         "20",
         "32",
         "29",
         "28",
         "25",
         "3",
         "11",
         "4",
         "4",
         "19",
         "12",
         "18",
         "20",
         "126",
         "125",
         "3",
         "4",
         "2019-10-23"
        ]
       ],
       "shape": {
        "columns": 27,
        "rows": 5
       }
      },
      "text/html": [
       "<div>\n",
       "<style scoped>\n",
       "    .dataframe tbody tr th:only-of-type {\n",
       "        vertical-align: middle;\n",
       "    }\n",
       "\n",
       "    .dataframe tbody tr th {\n",
       "        vertical-align: top;\n",
       "    }\n",
       "\n",
       "    .dataframe thead th {\n",
       "        text-align: right;\n",
       "    }\n",
       "</style>\n",
       "<table border=\"1\" class=\"dataframe\">\n",
       "  <thead>\n",
       "    <tr style=\"text-align: right;\">\n",
       "      <th></th>\n",
       "      <th>home_fga</th>\n",
       "      <th>away_fga</th>\n",
       "      <th>home_fg_pct</th>\n",
       "      <th>away_fg_pct</th>\n",
       "      <th>home_fg3a</th>\n",
       "      <th>away_fg3a</th>\n",
       "      <th>home_fg3_pct</th>\n",
       "      <th>away_fg3_pct</th>\n",
       "      <th>home_oreb</th>\n",
       "      <th>away_oreb</th>\n",
       "      <th>...</th>\n",
       "      <th>away_blk</th>\n",
       "      <th>home_tov</th>\n",
       "      <th>away_tov</th>\n",
       "      <th>home_pf</th>\n",
       "      <th>away_pf</th>\n",
       "      <th>home_pts</th>\n",
       "      <th>away_pts</th>\n",
       "      <th>home_team_id</th>\n",
       "      <th>away_team_id</th>\n",
       "      <th>date</th>\n",
       "    </tr>\n",
       "  </thead>\n",
       "  <tbody>\n",
       "    <tr>\n",
       "      <th>0</th>\n",
       "      <td>103</td>\n",
       "      <td>102</td>\n",
       "      <td>0.408</td>\n",
       "      <td>0.422</td>\n",
       "      <td>40</td>\n",
       "      <td>45</td>\n",
       "      <td>0.350</td>\n",
       "      <td>0.422</td>\n",
       "      <td>16</td>\n",
       "      <td>16</td>\n",
       "      <td>...</td>\n",
       "      <td>9</td>\n",
       "      <td>17</td>\n",
       "      <td>19</td>\n",
       "      <td>24</td>\n",
       "      <td>34</td>\n",
       "      <td>130</td>\n",
       "      <td>122</td>\n",
       "      <td>27</td>\n",
       "      <td>18</td>\n",
       "      <td>2019-10-22</td>\n",
       "    </tr>\n",
       "    <tr>\n",
       "      <th>1</th>\n",
       "      <td>81</td>\n",
       "      <td>85</td>\n",
       "      <td>0.519</td>\n",
       "      <td>0.435</td>\n",
       "      <td>31</td>\n",
       "      <td>33</td>\n",
       "      <td>0.355</td>\n",
       "      <td>0.394</td>\n",
       "      <td>11</td>\n",
       "      <td>9</td>\n",
       "      <td>...</td>\n",
       "      <td>7</td>\n",
       "      <td>14</td>\n",
       "      <td>15</td>\n",
       "      <td>25</td>\n",
       "      <td>24</td>\n",
       "      <td>112</td>\n",
       "      <td>102</td>\n",
       "      <td>12</td>\n",
       "      <td>13</td>\n",
       "      <td>2019-10-22</td>\n",
       "    </tr>\n",
       "    <tr>\n",
       "      <th>2</th>\n",
       "      <td>86</td>\n",
       "      <td>88</td>\n",
       "      <td>0.430</td>\n",
       "      <td>0.375</td>\n",
       "      <td>30</td>\n",
       "      <td>34</td>\n",
       "      <td>0.300</td>\n",
       "      <td>0.265</td>\n",
       "      <td>7</td>\n",
       "      <td>10</td>\n",
       "      <td>...</td>\n",
       "      <td>2</td>\n",
       "      <td>13</td>\n",
       "      <td>16</td>\n",
       "      <td>18</td>\n",
       "      <td>15</td>\n",
       "      <td>94</td>\n",
       "      <td>85</td>\n",
       "      <td>21</td>\n",
       "      <td>5</td>\n",
       "      <td>2019-10-23</td>\n",
       "    </tr>\n",
       "    <tr>\n",
       "      <th>3</th>\n",
       "      <td>76</td>\n",
       "      <td>93</td>\n",
       "      <td>0.461</td>\n",
       "      <td>0.398</td>\n",
       "      <td>36</td>\n",
       "      <td>41</td>\n",
       "      <td>0.306</td>\n",
       "      <td>0.268</td>\n",
       "      <td>5</td>\n",
       "      <td>11</td>\n",
       "      <td>...</td>\n",
       "      <td>3</td>\n",
       "      <td>20</td>\n",
       "      <td>17</td>\n",
       "      <td>22</td>\n",
       "      <td>32</td>\n",
       "      <td>108</td>\n",
       "      <td>100</td>\n",
       "      <td>6</td>\n",
       "      <td>29</td>\n",
       "      <td>2019-10-23</td>\n",
       "    </tr>\n",
       "    <tr>\n",
       "      <th>4</th>\n",
       "      <td>88</td>\n",
       "      <td>105</td>\n",
       "      <td>0.511</td>\n",
       "      <td>0.467</td>\n",
       "      <td>44</td>\n",
       "      <td>30</td>\n",
       "      <td>0.523</td>\n",
       "      <td>0.300</td>\n",
       "      <td>9</td>\n",
       "      <td>20</td>\n",
       "      <td>...</td>\n",
       "      <td>4</td>\n",
       "      <td>19</td>\n",
       "      <td>12</td>\n",
       "      <td>18</td>\n",
       "      <td>20</td>\n",
       "      <td>126</td>\n",
       "      <td>125</td>\n",
       "      <td>3</td>\n",
       "      <td>4</td>\n",
       "      <td>2019-10-23</td>\n",
       "    </tr>\n",
       "  </tbody>\n",
       "</table>\n",
       "<p>5 rows × 27 columns</p>\n",
       "</div>"
      ],
      "text/plain": [
       "   home_fga  away_fga  home_fg_pct  away_fg_pct  home_fg3a  away_fg3a  \\\n",
       "0       103       102        0.408        0.422         40         45   \n",
       "1        81        85        0.519        0.435         31         33   \n",
       "2        86        88        0.430        0.375         30         34   \n",
       "3        76        93        0.461        0.398         36         41   \n",
       "4        88       105        0.511        0.467         44         30   \n",
       "\n",
       "   home_fg3_pct  away_fg3_pct  home_oreb  away_oreb  ...  away_blk  home_tov  \\\n",
       "0         0.350         0.422         16         16  ...         9        17   \n",
       "1         0.355         0.394         11          9  ...         7        14   \n",
       "2         0.300         0.265          7         10  ...         2        13   \n",
       "3         0.306         0.268          5         11  ...         3        20   \n",
       "4         0.523         0.300          9         20  ...         4        19   \n",
       "\n",
       "   away_tov  home_pf  away_pf  home_pts  away_pts  home_team_id  away_team_id  \\\n",
       "0        19       24       34       130       122            27            18   \n",
       "1        15       25       24       112       102            12            13   \n",
       "2        16       18       15        94        85            21             5   \n",
       "3        17       22       32       108       100             6            29   \n",
       "4        12       18       20       126       125             3             4   \n",
       "\n",
       "         date  \n",
       "0  2019-10-22  \n",
       "1  2019-10-22  \n",
       "2  2019-10-23  \n",
       "3  2019-10-23  \n",
       "4  2019-10-23  \n",
       "\n",
       "[5 rows x 27 columns]"
      ]
     },
     "execution_count": 6,
     "metadata": {},
     "output_type": "execute_result"
    }
   ],
   "source": [
    "api = ApiFetcher(starting_year=2019, ending_year=2025)\n",
    "df = api.get_dataframe('leaguegamelog')\n",
    "df.head()"
   ]
  },
  {
   "cell_type": "code",
   "execution_count": 7,
   "id": "55c44cf6",
   "metadata": {},
   "outputs": [],
   "source": [
    "dataPrepeparation = DataPreparation('leaguegamelog')\n",
    "train_df, val_df, test_df = dataPrepeparation.data"
   ]
  },
  {
   "cell_type": "code",
   "execution_count": 10,
   "id": "c8d0857f",
   "metadata": {},
   "outputs": [
    {
     "name": "stdout",
     "output_type": "stream",
     "text": [
      "torch.Size([10, 24]) torch.Size([1, 2])\n"
     ]
    }
   ],
   "source": [
    "features, label = train_df[0]\n",
    "print(features.shape, label.shape)"
   ]
  },
  {
   "cell_type": "code",
   "execution_count": 9,
   "id": "62723104",
   "metadata": {},
   "outputs": [
    {
     "data": {
      "application/vnd.microsoft.datawrangler.viewer.v0+json": {
       "columns": [
        {
         "name": "index",
         "rawType": "int64",
         "type": "integer"
        },
        {
         "name": "game_id",
         "rawType": "object",
         "type": "string"
        },
        {
         "name": "home_team_id",
         "rawType": "int64",
         "type": "integer"
        },
        {
         "name": "away_team_id",
         "rawType": "int64",
         "type": "integer"
        },
        {
         "name": "home_minutes",
         "rawType": "object",
         "type": "string"
        },
        {
         "name": "home_est_off_rating",
         "rawType": "float64",
         "type": "float"
        },
        {
         "name": "home_off_rating",
         "rawType": "float64",
         "type": "float"
        },
        {
         "name": "home_est_def_rating",
         "rawType": "float64",
         "type": "float"
        },
        {
         "name": "home_def_rating",
         "rawType": "float64",
         "type": "float"
        },
        {
         "name": "home_est_net_rating",
         "rawType": "float64",
         "type": "float"
        },
        {
         "name": "home_net_rating",
         "rawType": "float64",
         "type": "float"
        },
        {
         "name": "home_ast_pct",
         "rawType": "float64",
         "type": "float"
        },
        {
         "name": "home_ast_to",
         "rawType": "float64",
         "type": "float"
        },
        {
         "name": "home_ast_ratio",
         "rawType": "float64",
         "type": "float"
        },
        {
         "name": "home_oreb_pct",
         "rawType": "float64",
         "type": "float"
        },
        {
         "name": "home_dreb_pct",
         "rawType": "float64",
         "type": "float"
        },
        {
         "name": "home_reb_pct",
         "rawType": "float64",
         "type": "float"
        },
        {
         "name": "home_est_tov_pct",
         "rawType": "float64",
         "type": "float"
        },
        {
         "name": "home_tov_ratio",
         "rawType": "float64",
         "type": "float"
        },
        {
         "name": "home_efg_pct",
         "rawType": "float64",
         "type": "float"
        },
        {
         "name": "home_ts_pct",
         "rawType": "float64",
         "type": "float"
        },
        {
         "name": "home_usg_pct",
         "rawType": "float64",
         "type": "float"
        },
        {
         "name": "home_est_usg_pct",
         "rawType": "float64",
         "type": "float"
        },
        {
         "name": "home_est_pace",
         "rawType": "float64",
         "type": "float"
        },
        {
         "name": "home_pace",
         "rawType": "float64",
         "type": "float"
        },
        {
         "name": "home_pace_per40",
         "rawType": "float64",
         "type": "float"
        },
        {
         "name": "home_possessions",
         "rawType": "float64",
         "type": "float"
        },
        {
         "name": "home_pie",
         "rawType": "float64",
         "type": "float"
        },
        {
         "name": "away_minutes",
         "rawType": "object",
         "type": "string"
        },
        {
         "name": "away_est_off_rating",
         "rawType": "float64",
         "type": "float"
        },
        {
         "name": "away_off_rating",
         "rawType": "float64",
         "type": "float"
        },
        {
         "name": "away_est_def_rating",
         "rawType": "float64",
         "type": "float"
        },
        {
         "name": "away_def_rating",
         "rawType": "float64",
         "type": "float"
        },
        {
         "name": "away_est_net_rating",
         "rawType": "float64",
         "type": "float"
        },
        {
         "name": "away_net_rating",
         "rawType": "float64",
         "type": "float"
        },
        {
         "name": "away_ast_pct",
         "rawType": "float64",
         "type": "float"
        },
        {
         "name": "away_ast_to",
         "rawType": "float64",
         "type": "float"
        },
        {
         "name": "away_ast_ratio",
         "rawType": "float64",
         "type": "float"
        },
        {
         "name": "away_oreb_pct",
         "rawType": "float64",
         "type": "float"
        },
        {
         "name": "away_dreb_pct",
         "rawType": "float64",
         "type": "float"
        },
        {
         "name": "away_reb_pct",
         "rawType": "float64",
         "type": "float"
        },
        {
         "name": "away_est_tov_pct",
         "rawType": "float64",
         "type": "float"
        },
        {
         "name": "away_tov_ratio",
         "rawType": "float64",
         "type": "float"
        },
        {
         "name": "away_efg_pct",
         "rawType": "float64",
         "type": "float"
        },
        {
         "name": "away_ts_pct",
         "rawType": "float64",
         "type": "float"
        },
        {
         "name": "away_usg_pct",
         "rawType": "float64",
         "type": "float"
        },
        {
         "name": "away_est_usg_pct",
         "rawType": "float64",
         "type": "float"
        },
        {
         "name": "away_est_pace",
         "rawType": "float64",
         "type": "float"
        },
        {
         "name": "away_pace",
         "rawType": "float64",
         "type": "float"
        },
        {
         "name": "away_pace_per40",
         "rawType": "float64",
         "type": "float"
        },
        {
         "name": "away_possessions",
         "rawType": "float64",
         "type": "float"
        },
        {
         "name": "away_pie",
         "rawType": "float64",
         "type": "float"
        },
        {
         "name": "date",
         "rawType": "object",
         "type": "string"
        }
       ],
       "ref": "c5421b2b-133e-4da3-b2b3-23902c63a254",
       "rows": [
        [
         "0",
         "0021900001",
         "27",
         "18",
         "265:00",
         "565.2",
         "113.0",
         "544.6",
         "108.9",
         "20.6",
         "4.1",
         "0.548",
         "1.35",
         "14.2",
         "0.4",
         "0.729",
         "0.556",
         "14.783",
         "14.8",
         "0.476",
         "0.543",
         "1.0",
         "0.971",
         "20.56",
         "102.79",
         "85.66",
         "115.0",
         "0.531",
         "265:00",
         "544.6",
         "108.9",
         "565.2",
         "113.0",
         "-20.6",
         "-4.1",
         "0.698",
         "1.58",
         "19.0",
         "0.271",
         "0.6",
         "0.444",
         "16.964",
         "17.0",
         "0.515",
         "0.551",
         "1.0",
         "1.0",
         "20.56",
         "102.79",
         "85.66",
         "112.0",
         "0.469",
         "2019-10-22"
        ],
        [
         "1",
         "0021900002",
         "12",
         "13",
         "240:00",
         "577.3",
         "115.5",
         "525.8",
         "105.2",
         "51.5",
         "10.3",
         "0.571",
         "1.71",
         "18.2",
         "0.256",
         "0.72",
         "0.505",
         "14.433",
         "14.4",
         "0.586",
         "0.612",
         "1.0",
         "0.972",
         "19.4",
         "97.0",
         "80.83",
         "97.0",
         "0.58",
         "240:00",
         "525.8",
         "105.2",
         "577.3",
         "115.5",
         "-51.5",
         "-10.3",
         "0.541",
         "1.33",
         "15.3",
         "0.28",
         "0.744",
         "0.495",
         "15.464",
         "15.5",
         "0.512",
         "0.541",
         "1.0",
         "0.964",
         "19.4",
         "97.0",
         "80.83",
         "97.0",
         "0.42",
         "2019-10-22"
        ],
        [
         "2",
         "0021900005",
         "21",
         "5",
         "240:00",
         "470.0",
         "94.0",
         "425.0",
         "85.0",
         "45.0",
         "9.0",
         "0.649",
         "1.85",
         "18.0",
         "0.167",
         "0.776",
         "0.482",
         "13.0",
         "13.0",
         "0.483",
         "0.498",
         "1.0",
         "0.982",
         "20.0",
         "100.0",
         "83.33",
         "100.0",
         "0.546",
         "240:00",
         "425.0",
         "85.0",
         "470.0",
         "94.0",
         "-45.0",
         "-9.0",
         "0.606",
         "1.25",
         "15.0",
         "0.224",
         "0.833",
         "0.518",
         "16.0",
         "16.0",
         "0.426",
         "0.449",
         "1.0",
         "0.982",
         "20.0",
         "100.0",
         "83.33",
         "100.0",
         "0.454",
         "2019-10-23"
        ],
        [
         "3",
         "0021900009",
         "6",
         "29",
         "240:00",
         "519.2",
         "103.8",
         "480.8",
         "96.2",
         "38.5",
         "7.7",
         "0.486",
         "0.85",
         "13.2",
         "0.182",
         "0.741",
         "0.5",
         "19.231",
         "19.2",
         "0.533",
         "0.597",
         "1.0",
         "0.973",
         "20.8",
         "104.0",
         "86.67",
         "104.0",
         "0.568",
         "240:00",
         "480.8",
         "96.2",
         "519.2",
         "103.8",
         "-38.5",
         "-7.7",
         "0.703",
         "1.53",
         "17.9",
         "0.259",
         "0.818",
         "0.5",
         "16.346",
         "16.3",
         "0.457",
         "0.495",
         "1.0",
         "0.983",
         "20.8",
         "104.0",
         "86.67",
         "104.0",
         "0.432",
         "2019-10-23"
        ],
        [
         "4",
         "0021900003",
         "3",
         "4",
         "240:00",
         "600.0",
         "120.0",
         "601.0",
         "120.2",
         "-1.0",
         "-0.2",
         "0.622",
         "1.47",
         "19.3",
         "0.273",
         "0.596",
         "0.455",
         "18.095",
         "18.1",
         "0.642",
         "0.663",
         "1.0",
         "0.974",
         "20.9",
         "104.5",
         "87.08",
         "105.0",
         "0.506",
         "240:00",
         "601.0",
         "120.2",
         "600.0",
         "120.0",
         "1.0",
         "0.2",
         "0.51",
         "2.08",
         "16.4",
         "0.404",
         "0.727",
         "0.545",
         "11.538",
         "11.5",
         "0.51",
         "0.545",
         "1.0",
         "0.976",
         "20.9",
         "104.5",
         "87.08",
         "104.0",
         "0.494",
         "2019-10-23"
        ]
       ],
       "shape": {
        "columns": 52,
        "rows": 5
       }
      },
      "text/html": [
       "<div>\n",
       "<style scoped>\n",
       "    .dataframe tbody tr th:only-of-type {\n",
       "        vertical-align: middle;\n",
       "    }\n",
       "\n",
       "    .dataframe tbody tr th {\n",
       "        vertical-align: top;\n",
       "    }\n",
       "\n",
       "    .dataframe thead th {\n",
       "        text-align: right;\n",
       "    }\n",
       "</style>\n",
       "<table border=\"1\" class=\"dataframe\">\n",
       "  <thead>\n",
       "    <tr style=\"text-align: right;\">\n",
       "      <th></th>\n",
       "      <th>game_id</th>\n",
       "      <th>home_team_id</th>\n",
       "      <th>away_team_id</th>\n",
       "      <th>home_minutes</th>\n",
       "      <th>home_est_off_rating</th>\n",
       "      <th>home_off_rating</th>\n",
       "      <th>home_est_def_rating</th>\n",
       "      <th>home_def_rating</th>\n",
       "      <th>home_est_net_rating</th>\n",
       "      <th>home_net_rating</th>\n",
       "      <th>...</th>\n",
       "      <th>away_efg_pct</th>\n",
       "      <th>away_ts_pct</th>\n",
       "      <th>away_usg_pct</th>\n",
       "      <th>away_est_usg_pct</th>\n",
       "      <th>away_est_pace</th>\n",
       "      <th>away_pace</th>\n",
       "      <th>away_pace_per40</th>\n",
       "      <th>away_possessions</th>\n",
       "      <th>away_pie</th>\n",
       "      <th>date</th>\n",
       "    </tr>\n",
       "  </thead>\n",
       "  <tbody>\n",
       "    <tr>\n",
       "      <th>0</th>\n",
       "      <td>0021900001</td>\n",
       "      <td>27</td>\n",
       "      <td>18</td>\n",
       "      <td>265:00</td>\n",
       "      <td>565.2</td>\n",
       "      <td>113.0</td>\n",
       "      <td>544.6</td>\n",
       "      <td>108.9</td>\n",
       "      <td>20.6</td>\n",
       "      <td>4.1</td>\n",
       "      <td>...</td>\n",
       "      <td>0.515</td>\n",
       "      <td>0.551</td>\n",
       "      <td>1.0</td>\n",
       "      <td>1.000</td>\n",
       "      <td>20.56</td>\n",
       "      <td>102.79</td>\n",
       "      <td>85.66</td>\n",
       "      <td>112.0</td>\n",
       "      <td>0.469</td>\n",
       "      <td>2019-10-22</td>\n",
       "    </tr>\n",
       "    <tr>\n",
       "      <th>1</th>\n",
       "      <td>0021900002</td>\n",
       "      <td>12</td>\n",
       "      <td>13</td>\n",
       "      <td>240:00</td>\n",
       "      <td>577.3</td>\n",
       "      <td>115.5</td>\n",
       "      <td>525.8</td>\n",
       "      <td>105.2</td>\n",
       "      <td>51.5</td>\n",
       "      <td>10.3</td>\n",
       "      <td>...</td>\n",
       "      <td>0.512</td>\n",
       "      <td>0.541</td>\n",
       "      <td>1.0</td>\n",
       "      <td>0.964</td>\n",
       "      <td>19.40</td>\n",
       "      <td>97.00</td>\n",
       "      <td>80.83</td>\n",
       "      <td>97.0</td>\n",
       "      <td>0.420</td>\n",
       "      <td>2019-10-22</td>\n",
       "    </tr>\n",
       "    <tr>\n",
       "      <th>2</th>\n",
       "      <td>0021900005</td>\n",
       "      <td>21</td>\n",
       "      <td>5</td>\n",
       "      <td>240:00</td>\n",
       "      <td>470.0</td>\n",
       "      <td>94.0</td>\n",
       "      <td>425.0</td>\n",
       "      <td>85.0</td>\n",
       "      <td>45.0</td>\n",
       "      <td>9.0</td>\n",
       "      <td>...</td>\n",
       "      <td>0.426</td>\n",
       "      <td>0.449</td>\n",
       "      <td>1.0</td>\n",
       "      <td>0.982</td>\n",
       "      <td>20.00</td>\n",
       "      <td>100.00</td>\n",
       "      <td>83.33</td>\n",
       "      <td>100.0</td>\n",
       "      <td>0.454</td>\n",
       "      <td>2019-10-23</td>\n",
       "    </tr>\n",
       "    <tr>\n",
       "      <th>3</th>\n",
       "      <td>0021900009</td>\n",
       "      <td>6</td>\n",
       "      <td>29</td>\n",
       "      <td>240:00</td>\n",
       "      <td>519.2</td>\n",
       "      <td>103.8</td>\n",
       "      <td>480.8</td>\n",
       "      <td>96.2</td>\n",
       "      <td>38.5</td>\n",
       "      <td>7.7</td>\n",
       "      <td>...</td>\n",
       "      <td>0.457</td>\n",
       "      <td>0.495</td>\n",
       "      <td>1.0</td>\n",
       "      <td>0.983</td>\n",
       "      <td>20.80</td>\n",
       "      <td>104.00</td>\n",
       "      <td>86.67</td>\n",
       "      <td>104.0</td>\n",
       "      <td>0.432</td>\n",
       "      <td>2019-10-23</td>\n",
       "    </tr>\n",
       "    <tr>\n",
       "      <th>4</th>\n",
       "      <td>0021900003</td>\n",
       "      <td>3</td>\n",
       "      <td>4</td>\n",
       "      <td>240:00</td>\n",
       "      <td>600.0</td>\n",
       "      <td>120.0</td>\n",
       "      <td>601.0</td>\n",
       "      <td>120.2</td>\n",
       "      <td>-1.0</td>\n",
       "      <td>-0.2</td>\n",
       "      <td>...</td>\n",
       "      <td>0.510</td>\n",
       "      <td>0.545</td>\n",
       "      <td>1.0</td>\n",
       "      <td>0.976</td>\n",
       "      <td>20.90</td>\n",
       "      <td>104.50</td>\n",
       "      <td>87.08</td>\n",
       "      <td>104.0</td>\n",
       "      <td>0.494</td>\n",
       "      <td>2019-10-23</td>\n",
       "    </tr>\n",
       "  </tbody>\n",
       "</table>\n",
       "<p>5 rows × 52 columns</p>\n",
       "</div>"
      ],
      "text/plain": [
       "      game_id  home_team_id  away_team_id home_minutes  home_est_off_rating  \\\n",
       "0  0021900001            27            18       265:00                565.2   \n",
       "1  0021900002            12            13       240:00                577.3   \n",
       "2  0021900005            21             5       240:00                470.0   \n",
       "3  0021900009             6            29       240:00                519.2   \n",
       "4  0021900003             3             4       240:00                600.0   \n",
       "\n",
       "   home_off_rating  home_est_def_rating  home_def_rating  home_est_net_rating  \\\n",
       "0            113.0                544.6            108.9                 20.6   \n",
       "1            115.5                525.8            105.2                 51.5   \n",
       "2             94.0                425.0             85.0                 45.0   \n",
       "3            103.8                480.8             96.2                 38.5   \n",
       "4            120.0                601.0            120.2                 -1.0   \n",
       "\n",
       "   home_net_rating  ...  away_efg_pct  away_ts_pct  away_usg_pct  \\\n",
       "0              4.1  ...         0.515        0.551           1.0   \n",
       "1             10.3  ...         0.512        0.541           1.0   \n",
       "2              9.0  ...         0.426        0.449           1.0   \n",
       "3              7.7  ...         0.457        0.495           1.0   \n",
       "4             -0.2  ...         0.510        0.545           1.0   \n",
       "\n",
       "   away_est_usg_pct  away_est_pace  away_pace  away_pace_per40  \\\n",
       "0             1.000          20.56     102.79            85.66   \n",
       "1             0.964          19.40      97.00            80.83   \n",
       "2             0.982          20.00     100.00            83.33   \n",
       "3             0.983          20.80     104.00            86.67   \n",
       "4             0.976          20.90     104.50            87.08   \n",
       "\n",
       "   away_possessions  away_pie        date  \n",
       "0             112.0     0.469  2019-10-22  \n",
       "1              97.0     0.420  2019-10-22  \n",
       "2             100.0     0.454  2019-10-23  \n",
       "3             104.0     0.432  2019-10-23  \n",
       "4             104.0     0.494  2019-10-23  \n",
       "\n",
       "[5 rows x 52 columns]"
      ]
     },
     "execution_count": 9,
     "metadata": {},
     "output_type": "execute_result"
    }
   ],
   "source": [
    "df = api.get_dataframe('boxscoreadvanced')\n",
    "df.head()"
   ]
  },
  {
   "cell_type": "code",
   "execution_count": null,
   "id": "03c0b3bb",
   "metadata": {},
   "outputs": [],
   "source": [
    "import sys\n",
    "import os\n",
    "sys.path.append(os.path.abspath(os.path.join('..', 'src')))\n"
   ]
  },
  {
   "cell_type": "code",
   "execution_count": null,
   "id": "bcd77f8d",
   "metadata": {},
   "outputs": [],
   "source": [
    "from model.team_embeddings.embeddings_train import TeamEmbeddingsModel\n",
    "from model.team_embeddings.embeddings_fetcher import EmbeddingFetcher\n",
    "from data.api_fetcher import ApiFetcher"
   ]
  },
  {
   "cell_type": "code",
   "execution_count": null,
   "id": "662c8556",
   "metadata": {},
   "outputs": [
    {
     "name": "stderr",
     "output_type": "stream",
     "text": [
      "c:\\Users\\szymo\\AppData\\Local\\Programs\\Python\\Python313\\Lib\\site-packages\\numpy\\_core\\fromnumeric.py:57: FutureWarning: 'DataFrame.swapaxes' is deprecated and will be removed in a future version. Please use 'DataFrame.transpose' instead.\n",
      "  return bound(*args, **kwds)\n"
     ]
    }
   ],
   "source": [
    "api = ApiFetcher(starting_year=2014, ending_year=2025)\n",
    "df = api.get_dataframe(numeric=False, date=True, time_coeff=False, ids=True)\n",
    "model1 = TeamEmbeddingsModel(df)\n"
   ]
  },
  {
   "cell_type": "code",
   "execution_count": null,
   "id": "6c161f0d",
   "metadata": {},
   "outputs": [],
   "source": [
    "test_loss, model = model1.train()\n"
   ]
  },
  {
   "cell_type": "code",
   "execution_count": null,
   "id": "17bb6831",
   "metadata": {},
   "outputs": [
    {
     "name": "stdout",
     "output_type": "stream",
     "text": [
      "[-0.961085   -0.40299723 -0.6816333  -1.259706   -0.46907297  0.47658578\n",
      " -0.7354865  -0.22129872]\n"
     ]
    }
   ],
   "source": [
    "home_embeddings = model.home_embedding.weight.detach().cpu().numpy()\n",
    "away_embeddings = model.away_embedding.weight.detach().cpu().numpy()\n",
    "print(embeddings_fetcher.get_home_embedding(team_id=5))"
   ]
  }
 ],
 "metadata": {
  "kernelspec": {
   "display_name": ".venv (3.13.3)",
   "language": "python",
   "name": "python3"
  },
  "language_info": {
   "codemirror_mode": {
    "name": "ipython",
    "version": 3
   },
   "file_extension": ".py",
   "mimetype": "text/x-python",
   "name": "python",
   "nbconvert_exporter": "python",
   "pygments_lexer": "ipython3",
   "version": "3.13.3"
  }
 },
 "nbformat": 4,
 "nbformat_minor": 5
}
