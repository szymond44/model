{
 "cells": [
  {
   "cell_type": "code",
   "execution_count": 1,
   "id": "c28ef0a7",
   "metadata": {},
   "outputs": [],
   "source": [
    "import sys\n",
    "import os\n",
    "import seaborn as sns\n",
    "import numpy as np\n",
    "import matplotlib.pyplot as plt\n",
    "from sklearn.linear_model import LinearRegression, Ridge, Lasso\n",
    "from sklearn.model_selection import GridSearchCV\n",
    "from sklearn.model_selection import train_test_split\n",
    "from sklearn.preprocessing import StandardScaler\n",
    "import pandas as pd\n",
    "sys.path.append(os.path.abspath(os.path.join('..', 'src')))\n",
    "%matplotlib inline"
   ]
  },
  {
   "cell_type": "code",
   "execution_count": 2,
   "id": "9e1a386b",
   "metadata": {},
   "outputs": [],
   "source": [
    "%load_ext autoreload\n",
    "%autoreload 2\n",
    "from data import ApiFetcher\n",
    "from model import TeamEmbeddings"
   ]
  },
  {
   "cell_type": "code",
   "execution_count": 3,
   "id": "a643d4ae",
   "metadata": {},
   "outputs": [
    {
     "name": "stdout",
     "output_type": "stream",
     "text": [
      "Index(['home_fga', 'away_fga', 'home_fg_pct', 'away_fg_pct', 'home_fg3a',\n",
      "       'away_fg3a', 'home_fg3_pct', 'away_fg3_pct', 'home_oreb', 'away_oreb',\n",
      "       'home_dreb', 'away_dreb', 'home_ast', 'away_ast', 'home_stl',\n",
      "       'away_stl', 'home_blk', 'away_blk', 'home_tov', 'away_tov', 'home_pf',\n",
      "       'away_pf', 'home_pts', 'away_pts', 'home_team_id', 'away_team_id'],\n",
      "      dtype='object')\n"
     ]
    }
   ],
   "source": [
    "api = ApiFetcher(2015, 2025)\n",
    "df = api.df_with_id()\n",
    "print(df.columns)"
   ]
  },
  {
   "cell_type": "code",
   "execution_count": 4,
   "id": "99388a67",
   "metadata": {},
   "outputs": [],
   "source": [
    "def rolling_window_features(df, cols, windows=[3,5,10]):\n",
    "    for team_type in ['home_team_id', 'away_team_id']:\n",
    "        for window in windows:\n",
    "            for col in cols:\n",
    "                if col.startswith('home_') and team_type == 'home_team_id':\n",
    "                    df[f'{col}_rolling_mean_{window}'] = df.groupby(team_type)[col].rolling(window).mean().reset_index(0, drop=True)\n",
    "                elif col.startswith('away_') and team_type == 'away_team_id':\n",
    "                    df[f'{col}_rolling_mean_{window}'] = df.groupby(team_type)[col].rolling(window).mean().reset_index(0, drop=True)\n",
    "    return df"
   ]
  },
  {
   "cell_type": "code",
   "execution_count": 5,
   "id": "6c779818",
   "metadata": {},
   "outputs": [],
   "source": [
    "statistics = ['home_fga', 'away_fga', 'home_fg_pct', 'away_fg_pct', 'home_fg3a',\n",
    "       'away_fg3a', 'home_fg3_pct', 'away_fg3_pct', 'home_oreb', 'away_oreb',\n",
    "       'home_dreb', 'away_dreb', 'home_ast', 'away_ast', 'home_stl',\n",
    "       'away_stl', 'home_blk', 'away_blk', 'home_tov', 'away_tov', 'home_pf',\n",
    "       'away_pf']\n",
    "results = ['home_pts', 'away_pts']\n",
    "df = rolling_window_features(df, statistics, windows=[3,5,10])\n",
    "df = df.drop(columns=statistics)\n",
    "df.dropna(inplace=True)\n",
    "\n",
    "\n",
    "X = df.drop(columns=results)\n",
    "y = df[results]\n",
    "\n",
    "X_train, X_test, y_train, y_test = train_test_split(X, y, test_size=0.2, random_state=42)\n",
    "scaler = StandardScaler()\n",
    "X_train_scaled = scaler.fit_transform(X_train) \n",
    "X_test_scaled = scaler.transform(X_test)       \n",
    "\n",
    "X_train_scaled = pd.DataFrame(X_train_scaled, columns=X.columns, index=X_train.index)\n",
    "X_test_scaled = pd.DataFrame(X_test_scaled, columns=X.columns, index=X_test.index)"
   ]
  },
  {
   "cell_type": "markdown",
   "id": "44607cec",
   "metadata": {},
   "source": [
    "# Linear Regression"
   ]
  },
  {
   "cell_type": "code",
   "execution_count": 6,
   "id": "4aeac80a",
   "metadata": {},
   "outputs": [
    {
     "name": "stdout",
     "output_type": "stream",
     "text": [
      "Model R^2: 0.4849443429546855\n",
      "Model MSE: 85.82145952865373\n",
      "\n",
      "Najważniejsze cechy dla home_pts:\n",
      "                       feature  home_pts_coef\n",
      "3   home_fg_pct_rolling_mean_3       4.748461\n",
      "40    away_dreb_rolling_mean_3      -3.604619\n",
      "35     away_fga_rolling_mean_3       3.312689\n",
      "4     home_fg3a_rolling_mean_3       2.363626\n",
      "42     away_stl_rolling_mean_3      -1.639108\n",
      "\n",
      "Najważniejsze cechy dla away_pts:\n",
      "                       feature  away_pts_coef\n",
      "36  away_fg_pct_rolling_mean_3       4.492955\n",
      "7     home_dreb_rolling_mean_3      -3.049784\n",
      "2      home_fga_rolling_mean_3       2.975361\n",
      "35     away_fga_rolling_mean_3       2.436373\n",
      "37    away_fg3a_rolling_mean_3       2.161280\n"
     ]
    }
   ],
   "source": [
    "model = LinearRegression()\n",
    "model.fit(X_train_scaled, y_train)\n",
    "y_pred = model.predict(X_test_scaled)\n",
    "print(f\"Model R^2: {model.score(X_test_scaled, y_test)}\")\n",
    "print(f\"Model MSE: {np.mean((y_pred - y_test) ** 2)}\")\n",
    "\n",
    "coef_df = pd.DataFrame({\n",
    "    'feature': X.columns,\n",
    "    'home_pts_coef': model.coef_[0],\n",
    "    'away_pts_coef': model.coef_[1],\n",
    "    'abs_home_coef': np.abs(model.coef_[0]),\n",
    "    'abs_away_coef': np.abs(model.coef_[1])\n",
    "})\n",
    "\n",
    "print(\"\\nNajważniejsze cechy dla home_pts:\")\n",
    "print(coef_df.nlargest(5, 'abs_home_coef')[['feature', 'home_pts_coef']])\n",
    "\n",
    "print(\"\\nNajważniejsze cechy dla away_pts:\")\n",
    "print(coef_df.nlargest(5, 'abs_away_coef')[['feature', 'away_pts_coef']])"
   ]
  },
  {
   "cell_type": "code",
   "execution_count": 7,
   "id": "6c3c9c54",
   "metadata": {},
   "outputs": [
    {
     "name": "stdout",
     "output_type": "stream",
     "text": [
      "Model R^2: 0.4848513486532238\n",
      "Model MSE: 85.83709999989706\n",
      "\n",
      "Najważniejsze cechy dla home_pts:\n",
      "                       feature  home_pts_coef\n",
      "3   home_fg_pct_rolling_mean_3       4.437416\n",
      "40    away_dreb_rolling_mean_3      -3.407579\n",
      "35     away_fga_rolling_mean_3       3.011151\n",
      "4     home_fg3a_rolling_mean_3       2.057133\n",
      "42     away_stl_rolling_mean_3      -1.519809\n",
      "\n",
      "Najważniejsze cechy dla away_pts:\n",
      "                       feature  away_pts_coef\n",
      "36  away_fg_pct_rolling_mean_3       4.202400\n",
      "7     home_dreb_rolling_mean_3      -2.903308\n",
      "2      home_fga_rolling_mean_3       2.756562\n",
      "35     away_fga_rolling_mean_3       2.294409\n",
      "37    away_fg3a_rolling_mean_3       1.878572\n"
     ]
    }
   ],
   "source": [
    "model = Ridge()\n",
    "grid_search = GridSearchCV(model, param_grid={'alpha': [0.1, 1.0, 10.0, 100.0]})\n",
    "grid_search.fit(X_train_scaled, y_train)\n",
    "model = grid_search.best_estimator_\n",
    "y_pred = model.predict(X_test_scaled)\n",
    "print(f\"Model R^2: {model.score(X_test_scaled, y_test)}\")\n",
    "print(f\"Model MSE: {np.mean((y_pred - y_test) ** 2)}\")\n",
    "\n",
    "coef_df = pd.DataFrame({\n",
    "    'feature': X.columns,\n",
    "    'home_pts_coef': model.coef_[0],\n",
    "    'away_pts_coef': model.coef_[1],\n",
    "    'abs_home_coef': np.abs(model.coef_[0]),\n",
    "    'abs_away_coef': np.abs(model.coef_[1])\n",
    "})\n",
    "\n",
    "print(\"\\nNajważniejsze cechy dla home_pts:\")\n",
    "print(coef_df.nlargest(5, 'abs_home_coef')[['feature', 'home_pts_coef']])\n",
    "\n",
    "print(\"\\nNajważniejsze cechy dla away_pts:\")\n",
    "print(coef_df.nlargest(5, 'abs_away_coef')[['feature', 'away_pts_coef']])"
   ]
  },
  {
   "cell_type": "code",
   "execution_count": 8,
   "id": "d962b39e",
   "metadata": {},
   "outputs": [
    {
     "name": "stdout",
     "output_type": "stream",
     "text": [
      "Model R^2: 0.48448863688623234\n",
      "Model MSE: 85.89921734719888\n",
      "\n",
      "Najważniejsze cechy dla home_pts:\n",
      "                       feature  home_pts_coef\n",
      "3   home_fg_pct_rolling_mean_3       4.867772\n",
      "40    away_dreb_rolling_mean_3      -3.085939\n",
      "35     away_fga_rolling_mean_3       3.039338\n",
      "4     home_fg3a_rolling_mean_3       2.058345\n",
      "2      home_fga_rolling_mean_3       1.782198\n",
      "\n",
      "Najważniejsze cechy dla away_pts:\n",
      "                       feature  away_pts_coef\n",
      "36  away_fg_pct_rolling_mean_3       4.582878\n",
      "2      home_fga_rolling_mean_3       3.097066\n",
      "7     home_dreb_rolling_mean_3      -3.021530\n",
      "35     away_fga_rolling_mean_3       2.508614\n",
      "37    away_fg3a_rolling_mean_3       1.832661\n"
     ]
    }
   ],
   "source": [
    "model = Lasso()\n",
    "grid_search = GridSearchCV(model, param_grid={'alpha': [0.1, 1.0, 10.0, 100.0]})\n",
    "grid_search.fit(X_train_scaled, y_train)\n",
    "model = grid_search.best_estimator_\n",
    "y_pred = model.predict(X_test_scaled)\n",
    "print(f\"Model R^2: {model.score(X_test_scaled, y_test)}\")\n",
    "print(f\"Model MSE: {np.mean((y_pred - y_test) ** 2)}\")\n",
    "\n",
    "coef_df = pd.DataFrame({\n",
    "    'feature': X.columns,\n",
    "    'home_pts_coef': model.coef_[0],\n",
    "    'away_pts_coef': model.coef_[1],\n",
    "    'abs_home_coef': np.abs(model.coef_[0]),\n",
    "    'abs_away_coef': np.abs(model.coef_[1])\n",
    "})\n",
    "\n",
    "print(\"\\nNajważniejsze cechy dla home_pts:\")\n",
    "print(coef_df.nlargest(5, 'abs_home_coef')[['feature', 'home_pts_coef']])\n",
    "\n",
    "print(\"\\nNajważniejsze cechy dla away_pts:\")\n",
    "print(coef_df.nlargest(5, 'abs_away_coef')[['feature', 'away_pts_coef']])"
   ]
  },
  {
   "cell_type": "markdown",
   "id": "57fdb65a",
   "metadata": {},
   "source": [
    "# Nonlinear Regression"
   ]
  }
 ],
 "metadata": {
  "kernelspec": {
   "display_name": ".venv (3.13.3)",
   "language": "python",
   "name": "python3"
  },
  "language_info": {
   "codemirror_mode": {
    "name": "ipython",
    "version": 3
   },
   "file_extension": ".py",
   "mimetype": "text/x-python",
   "name": "python",
   "nbconvert_exporter": "python",
   "pygments_lexer": "ipython3",
   "version": "3.13.3"
  }
 },
 "nbformat": 4,
 "nbformat_minor": 5
}
