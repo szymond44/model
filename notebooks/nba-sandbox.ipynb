{
 "cells": [
  {
   "cell_type": "code",
   "execution_count": 19,
   "id": "c28ef0a7",
   "metadata": {},
   "outputs": [],
   "source": [
    "import sys\n",
    "import os\n",
    "import pandas as pd\n",
    "sys.path.append(os.path.abspath(os.path.join('..', 'src')))\n",
    "%matplotlib inline"
   ]
  },
  {
   "cell_type": "code",
   "execution_count": 20,
   "id": "9e1a386b",
   "metadata": {},
   "outputs": [
    {
     "name": "stdout",
     "output_type": "stream",
     "text": [
      "The autoreload extension is already loaded. To reload it, use:\n",
      "  %reload_ext autoreload\n"
     ]
    }
   ],
   "source": [
    "%load_ext autoreload\n",
    "%autoreload 2\n",
    "from data import ApiFetcher"
   ]
  },
  {
   "cell_type": "code",
   "execution_count": 22,
   "id": "29a4f4b8",
   "metadata": {},
   "outputs": [
    {
     "data": {
      "application/vnd.microsoft.datawrangler.viewer.v0+json": {
       "columns": [
        {
         "name": "index",
         "rawType": "int64",
         "type": "integer"
        },
        {
         "name": "home_fga",
         "rawType": "int64",
         "type": "integer"
        },
        {
         "name": "away_fga",
         "rawType": "int64",
         "type": "integer"
        },
        {
         "name": "home_fg_pct",
         "rawType": "float64",
         "type": "float"
        },
        {
         "name": "away_fg_pct",
         "rawType": "float64",
         "type": "float"
        },
        {
         "name": "home_fg3a",
         "rawType": "int64",
         "type": "integer"
        },
        {
         "name": "away_fg3a",
         "rawType": "int64",
         "type": "integer"
        },
        {
         "name": "home_fg3_pct",
         "rawType": "float64",
         "type": "float"
        },
        {
         "name": "away_fg3_pct",
         "rawType": "float64",
         "type": "float"
        },
        {
         "name": "home_oreb",
         "rawType": "int64",
         "type": "integer"
        },
        {
         "name": "away_oreb",
         "rawType": "int64",
         "type": "integer"
        },
        {
         "name": "home_dreb",
         "rawType": "int64",
         "type": "integer"
        },
        {
         "name": "away_dreb",
         "rawType": "int64",
         "type": "integer"
        },
        {
         "name": "home_ast",
         "rawType": "int64",
         "type": "integer"
        },
        {
         "name": "away_ast",
         "rawType": "int64",
         "type": "integer"
        },
        {
         "name": "home_stl",
         "rawType": "int64",
         "type": "integer"
        },
        {
         "name": "away_stl",
         "rawType": "int64",
         "type": "integer"
        },
        {
         "name": "home_blk",
         "rawType": "int64",
         "type": "integer"
        },
        {
         "name": "away_blk",
         "rawType": "int64",
         "type": "integer"
        },
        {
         "name": "home_tov",
         "rawType": "int64",
         "type": "integer"
        },
        {
         "name": "away_tov",
         "rawType": "int64",
         "type": "integer"
        },
        {
         "name": "home_pf",
         "rawType": "int64",
         "type": "integer"
        },
        {
         "name": "away_pf",
         "rawType": "int64",
         "type": "integer"
        },
        {
         "name": "home_pts",
         "rawType": "int64",
         "type": "integer"
        },
        {
         "name": "away_pts",
         "rawType": "int64",
         "type": "integer"
        },
        {
         "name": "date",
         "rawType": "object",
         "type": "string"
        },
        {
         "name": "home_team_id",
         "rawType": "int64",
         "type": "integer"
        },
        {
         "name": "away_team_id",
         "rawType": "int64",
         "type": "integer"
        }
       ],
       "ref": "94f8e959-2fb8-4afc-8293-02cec3bb38c5",
       "rows": [
        [
         "0",
         "103",
         "102",
         "0.408",
         "0.422",
         "40",
         "45",
         "0.35",
         "0.422",
         "16",
         "16",
         "41",
         "37",
         "23",
         "30",
         "7",
         "4",
         "3",
         "9",
         "17",
         "19",
         "24",
         "34",
         "130",
         "122",
         "2019-10-22",
         "27",
         "18"
        ],
        [
         "1",
         "81",
         "85",
         "0.519",
         "0.435",
         "31",
         "33",
         "0.355",
         "0.394",
         "11",
         "9",
         "34",
         "32",
         "24",
         "20",
         "8",
         "4",
         "5",
         "7",
         "14",
         "15",
         "25",
         "24",
         "112",
         "102",
         "2019-10-22",
         "12",
         "13"
        ],
        [
         "2",
         "86",
         "88",
         "0.43",
         "0.375",
         "30",
         "34",
         "0.3",
         "0.265",
         "7",
         "10",
         "39",
         "44",
         "24",
         "20",
         "12",
         "8",
         "4",
         "2",
         "13",
         "16",
         "18",
         "15",
         "94",
         "85",
         "2019-10-23",
         "21",
         "5"
        ],
        [
         "3",
         "76",
         "93",
         "0.461",
         "0.398",
         "36",
         "41",
         "0.306",
         "0.268",
         "5",
         "11",
         "41",
         "36",
         "17",
         "26",
         "6",
         "6",
         "5",
         "3",
         "20",
         "17",
         "22",
         "32",
         "108",
         "100",
         "2019-10-23",
         "6",
         "29"
        ],
        [
         "4",
         "88",
         "105",
         "0.511",
         "0.467",
         "44",
         "30",
         "0.523",
         "0.3",
         "9",
         "20",
         "32",
         "29",
         "28",
         "25",
         "3",
         "11",
         "4",
         "4",
         "19",
         "12",
         "18",
         "20",
         "126",
         "125",
         "2019-10-23",
         "3",
         "4"
        ]
       ],
       "shape": {
        "columns": 27,
        "rows": 5
       }
      },
      "text/html": [
       "<div>\n",
       "<style scoped>\n",
       "    .dataframe tbody tr th:only-of-type {\n",
       "        vertical-align: middle;\n",
       "    }\n",
       "\n",
       "    .dataframe tbody tr th {\n",
       "        vertical-align: top;\n",
       "    }\n",
       "\n",
       "    .dataframe thead th {\n",
       "        text-align: right;\n",
       "    }\n",
       "</style>\n",
       "<table border=\"1\" class=\"dataframe\">\n",
       "  <thead>\n",
       "    <tr style=\"text-align: right;\">\n",
       "      <th></th>\n",
       "      <th>home_fga</th>\n",
       "      <th>away_fga</th>\n",
       "      <th>home_fg_pct</th>\n",
       "      <th>away_fg_pct</th>\n",
       "      <th>home_fg3a</th>\n",
       "      <th>away_fg3a</th>\n",
       "      <th>home_fg3_pct</th>\n",
       "      <th>away_fg3_pct</th>\n",
       "      <th>home_oreb</th>\n",
       "      <th>away_oreb</th>\n",
       "      <th>...</th>\n",
       "      <th>away_blk</th>\n",
       "      <th>home_tov</th>\n",
       "      <th>away_tov</th>\n",
       "      <th>home_pf</th>\n",
       "      <th>away_pf</th>\n",
       "      <th>home_pts</th>\n",
       "      <th>away_pts</th>\n",
       "      <th>date</th>\n",
       "      <th>home_team_id</th>\n",
       "      <th>away_team_id</th>\n",
       "    </tr>\n",
       "  </thead>\n",
       "  <tbody>\n",
       "    <tr>\n",
       "      <th>0</th>\n",
       "      <td>103</td>\n",
       "      <td>102</td>\n",
       "      <td>0.408</td>\n",
       "      <td>0.422</td>\n",
       "      <td>40</td>\n",
       "      <td>45</td>\n",
       "      <td>0.350</td>\n",
       "      <td>0.422</td>\n",
       "      <td>16</td>\n",
       "      <td>16</td>\n",
       "      <td>...</td>\n",
       "      <td>9</td>\n",
       "      <td>17</td>\n",
       "      <td>19</td>\n",
       "      <td>24</td>\n",
       "      <td>34</td>\n",
       "      <td>130</td>\n",
       "      <td>122</td>\n",
       "      <td>2019-10-22</td>\n",
       "      <td>27</td>\n",
       "      <td>18</td>\n",
       "    </tr>\n",
       "    <tr>\n",
       "      <th>1</th>\n",
       "      <td>81</td>\n",
       "      <td>85</td>\n",
       "      <td>0.519</td>\n",
       "      <td>0.435</td>\n",
       "      <td>31</td>\n",
       "      <td>33</td>\n",
       "      <td>0.355</td>\n",
       "      <td>0.394</td>\n",
       "      <td>11</td>\n",
       "      <td>9</td>\n",
       "      <td>...</td>\n",
       "      <td>7</td>\n",
       "      <td>14</td>\n",
       "      <td>15</td>\n",
       "      <td>25</td>\n",
       "      <td>24</td>\n",
       "      <td>112</td>\n",
       "      <td>102</td>\n",
       "      <td>2019-10-22</td>\n",
       "      <td>12</td>\n",
       "      <td>13</td>\n",
       "    </tr>\n",
       "    <tr>\n",
       "      <th>2</th>\n",
       "      <td>86</td>\n",
       "      <td>88</td>\n",
       "      <td>0.430</td>\n",
       "      <td>0.375</td>\n",
       "      <td>30</td>\n",
       "      <td>34</td>\n",
       "      <td>0.300</td>\n",
       "      <td>0.265</td>\n",
       "      <td>7</td>\n",
       "      <td>10</td>\n",
       "      <td>...</td>\n",
       "      <td>2</td>\n",
       "      <td>13</td>\n",
       "      <td>16</td>\n",
       "      <td>18</td>\n",
       "      <td>15</td>\n",
       "      <td>94</td>\n",
       "      <td>85</td>\n",
       "      <td>2019-10-23</td>\n",
       "      <td>21</td>\n",
       "      <td>5</td>\n",
       "    </tr>\n",
       "    <tr>\n",
       "      <th>3</th>\n",
       "      <td>76</td>\n",
       "      <td>93</td>\n",
       "      <td>0.461</td>\n",
       "      <td>0.398</td>\n",
       "      <td>36</td>\n",
       "      <td>41</td>\n",
       "      <td>0.306</td>\n",
       "      <td>0.268</td>\n",
       "      <td>5</td>\n",
       "      <td>11</td>\n",
       "      <td>...</td>\n",
       "      <td>3</td>\n",
       "      <td>20</td>\n",
       "      <td>17</td>\n",
       "      <td>22</td>\n",
       "      <td>32</td>\n",
       "      <td>108</td>\n",
       "      <td>100</td>\n",
       "      <td>2019-10-23</td>\n",
       "      <td>6</td>\n",
       "      <td>29</td>\n",
       "    </tr>\n",
       "    <tr>\n",
       "      <th>4</th>\n",
       "      <td>88</td>\n",
       "      <td>105</td>\n",
       "      <td>0.511</td>\n",
       "      <td>0.467</td>\n",
       "      <td>44</td>\n",
       "      <td>30</td>\n",
       "      <td>0.523</td>\n",
       "      <td>0.300</td>\n",
       "      <td>9</td>\n",
       "      <td>20</td>\n",
       "      <td>...</td>\n",
       "      <td>4</td>\n",
       "      <td>19</td>\n",
       "      <td>12</td>\n",
       "      <td>18</td>\n",
       "      <td>20</td>\n",
       "      <td>126</td>\n",
       "      <td>125</td>\n",
       "      <td>2019-10-23</td>\n",
       "      <td>3</td>\n",
       "      <td>4</td>\n",
       "    </tr>\n",
       "  </tbody>\n",
       "</table>\n",
       "<p>5 rows × 27 columns</p>\n",
       "</div>"
      ],
      "text/plain": [
       "   home_fga  away_fga  home_fg_pct  away_fg_pct  home_fg3a  away_fg3a  \\\n",
       "0       103       102        0.408        0.422         40         45   \n",
       "1        81        85        0.519        0.435         31         33   \n",
       "2        86        88        0.430        0.375         30         34   \n",
       "3        76        93        0.461        0.398         36         41   \n",
       "4        88       105        0.511        0.467         44         30   \n",
       "\n",
       "   home_fg3_pct  away_fg3_pct  home_oreb  away_oreb  ...  away_blk  home_tov  \\\n",
       "0         0.350         0.422         16         16  ...         9        17   \n",
       "1         0.355         0.394         11          9  ...         7        14   \n",
       "2         0.300         0.265          7         10  ...         2        13   \n",
       "3         0.306         0.268          5         11  ...         3        20   \n",
       "4         0.523         0.300          9         20  ...         4        19   \n",
       "\n",
       "   away_tov  home_pf  away_pf  home_pts  away_pts        date  home_team_id  \\\n",
       "0        19       24       34       130       122  2019-10-22            27   \n",
       "1        15       25       24       112       102  2019-10-22            12   \n",
       "2        16       18       15        94        85  2019-10-23            21   \n",
       "3        17       22       32       108       100  2019-10-23             6   \n",
       "4        12       18       20       126       125  2019-10-23             3   \n",
       "\n",
       "   away_team_id  \n",
       "0            18  \n",
       "1            13  \n",
       "2             5  \n",
       "3            29  \n",
       "4             4  \n",
       "\n",
       "[5 rows x 27 columns]"
      ]
     },
     "execution_count": 22,
     "metadata": {},
     "output_type": "execute_result"
    }
   ],
   "source": [
    "api = ApiFetcher(starting_year=2019, ending_year=2025)\n",
    "df = api.get_dataframe('leaguegamelog')\n",
    "df.head()"
   ]
  },
  {
   "cell_type": "code",
   "execution_count": null,
   "id": "62723104",
   "metadata": {},
   "outputs": [],
   "source": [
    "df = api.get_dataframe('boxscoreadvanced')\n",
    "df.head()"
   ]
  }
 ],
 "metadata": {
  "kernelspec": {
   "display_name": ".venv (3.13.3)",
   "language": "python",
   "name": "python3"
  },
  "language_info": {
   "codemirror_mode": {
    "name": "ipython",
    "version": 3
   },
   "file_extension": ".py",
   "mimetype": "text/x-python",
   "name": "python",
   "nbconvert_exporter": "python",
   "pygments_lexer": "ipython3",
   "version": "3.13.3"
  }
 },
 "nbformat": 4,
 "nbformat_minor": 5
}
