{
 "cells": [
  {
   "cell_type": "code",
   "execution_count": 13,
   "id": "a2867c44",
   "metadata": {},
   "outputs": [],
   "source": [
    "import sys\n",
    "import os\n",
    "import pandas as pd\n",
    "import numpy as np\n",
    "from sklearn.preprocessing import StandardScaler\n",
    "sys.path.append(os.path.abspath(os.path.join('..', 'src')))"
   ]
  },
  {
   "cell_type": "code",
   "execution_count": 10,
   "id": "9468dae2",
   "metadata": {},
   "outputs": [
    {
     "name": "stdout",
     "output_type": "stream",
     "text": [
      "The autoreload extension is already loaded. To reload it, use:\n",
      "  %reload_ext autoreload\n"
     ]
    }
   ],
   "source": [
    "%load_ext autoreload\n",
    "%autoreload 2\n",
    "from data.api_fetcher import ApiFetcher"
   ]
  },
  {
   "cell_type": "code",
   "execution_count": 56,
   "id": "2b6faf84",
   "metadata": {},
   "outputs": [
    {
     "name": "stdout",
     "output_type": "stream",
     "text": [
      "Index(['home_fga', 'home_fg_pct', 'home_fg3a', 'home_fg3_pct', 'home_oreb',\n",
      "       'home_dreb', 'home_ast', 'home_stl', 'home_blk', 'home_tov', 'home_pf',\n",
      "       'home_pts', 'away_fga', 'away_fg_pct', 'away_fg3a', 'away_fg3_pct',\n",
      "       'away_oreb', 'away_dreb', 'away_ast', 'away_stl', 'away_blk',\n",
      "       'away_tov', 'away_pf', 'away_pts', 'home_team_season_id',\n",
      "       'away_team_season_id', 'date'],\n",
      "      dtype='object')\n"
     ]
    }
   ],
   "source": [
    "%reload_ext autoreload\n",
    "api = ApiFetcher(starting_year=2015, ending_year=2025)\n",
    "df = api.create_numeric_with_team_ids()\n",
    "print(df.columns)"
   ]
  },
  {
   "cell_type": "code",
   "execution_count": 57,
   "id": "0bf3398b",
   "metadata": {},
   "outputs": [],
   "source": [
    "def prepare_embedding_dataset(df, \n",
    "                               home_id_col='home_team_season_id', \n",
    "                               away_id_col='away_team_season_id',\n",
    "                               target_cols=('home_pts', 'away_pts'),\n",
    "                               date_col='date'):\n",
    "    \n",
    "    #prep target\n",
    "    y = df[target_cols[0]] + df[target_cols[1]] \n",
    "    y = y.values.astype(np.float32)\n",
    "\n",
    "    #extract ids, leave only numeric data\n",
    "    exclude_cols = [home_id_col, away_id_col] + list(target_cols) + [date_col]\n",
    "    numeric_cols = []\n",
    "    for col in df.columns:\n",
    "            if col not in exclude_cols:\n",
    "                # Check if column is numeric and can be converted to float\n",
    "                if pd.api.types.is_numeric_dtype(df[col]):\n",
    "                    numeric_cols.append(col)\n",
    "    \n",
    "    print(f\"Using numeric columns: {numeric_cols}\")\n",
    "\n",
    "    #extract and normalise num features (must be  numpy tensors)\n",
    "\n",
    "    X_numeric = df[numeric_cols].values.astype(np.float32)\n",
    "    scaler = StandardScaler()\n",
    "    X_numeric = scaler.fit_transform(X_numeric)\n",
    "\n",
    "    # Extract team IDs\n",
    "    X_home_id = df[home_id_col].values.astype(np.int32)\n",
    "    X_away_id = df[away_id_col].values.astype(np.int32)\n",
    "    \n",
    "    return X_numeric, X_home_id, X_away_id, y, scaler\n",
    "\n",
    "\n"
   ]
  },
  {
   "cell_type": "code",
   "execution_count": null,
   "id": "7cabc870",
   "metadata": {},
   "outputs": [
    {
     "name": "stdout",
     "output_type": "stream",
     "text": [
      "X_numeric shape: (11973, 22)\n",
      "Home IDs shape: (11973,)\n",
      "Away IDs shape: (11973,)\n",
      "y shape: (11973,)\n"
     ]
    }
   ],
   "source": [
    "#X_numeric, X_home_id, X_away_id, y, scaler = prepare_embedding_dataset(df)\n",
    "\n",
    "#print(\"X_numeric shape:\", X_numeric.shape)\n",
    "#print(\"Home IDs shape:\", X_home_id.shape)\n",
    "#print(\"Away IDs shape:\", X_away_id.shape)\n",
    "#print(\"y shape:\", y.shape)\n"
   ]
  },
  {
   "cell_type": "code",
   "execution_count": 42,
   "id": "0b0098b1",
   "metadata": {},
   "outputs": [],
   "source": [
    "import torch\n",
    "import torch.nn as nn\n",
    "\n",
    "class NBAEmbeddingModel(nn.Module):\n",
    "    def __init__(self, num_numeric_features, num_teams, embedding_dim=8):\n",
    "        super(NBAEmbeddingModel, self).__init__()\n",
    "        \n",
    "        # Embedding layers for team IDs\n",
    "        self.home_embedding = nn.Embedding(num_teams, embedding_dim)\n",
    "        self.away_embedding = nn.Embedding(num_teams, embedding_dim)\n",
    "        \n",
    "        # First hidden layer: (numeric features + 2 embeddings) → 64 neurons\n",
    "        self.fc1 = nn.Linear(num_numeric_features + embedding_dim * 2, 64)\n",
    "        \n",
    "        # Second hidden layer: 64 → 32 neurons\n",
    "        self.fc2 = nn.Linear(64, 32)\n",
    "        \n",
    "        # Output layer: 32 → 1 (predict total points)\n",
    "        self.output = nn.Linear(32, 1)\n",
    "        \n",
    "        # Activation\n",
    "        self.relu = nn.ReLU()\n",
    "\n",
    "    def forward(self, numeric_features, home_ids, away_ids):\n",
    "        # Get embeddings\n",
    "        home_emb = self.home_embedding(home_ids)   # shape: (batch_size, embedding_dim)\n",
    "        away_emb = self.away_embedding(away_ids)   # shape: (batch_size, embedding_dim)\n",
    "        \n",
    "        # Concatenate numeric + embeddings\n",
    "        x = torch.cat([numeric_features, home_emb, away_emb], dim=1)\n",
    "        \n",
    "        # Pass through hidden layers\n",
    "        x = self.relu(self.fc1(x))\n",
    "        x = self.relu(self.fc2(x))\n",
    "        \n",
    "        # Output (linear, no activation for regression)\n",
    "        return self.output(x)\n"
   ]
  },
  {
   "cell_type": "code",
   "execution_count": 58,
   "id": "b8d2a3c1",
   "metadata": {},
   "outputs": [
    {
     "name": "stdout",
     "output_type": "stream",
     "text": [
      "Using numeric columns: ['home_fga', 'home_fg_pct', 'home_fg3a', 'home_fg3_pct', 'home_oreb', 'home_dreb', 'home_ast', 'home_stl', 'home_blk', 'home_tov', 'home_pf', 'away_fga', 'away_fg_pct', 'away_fg3a', 'away_fg3_pct', 'away_oreb', 'away_dreb', 'away_ast', 'away_stl', 'away_blk', 'away_tov', 'away_pf']\n"
     ]
    }
   ],
   "source": [
    "from sklearn.preprocessing import StandardScaler\n",
    "import torch\n",
    "from torch.utils.data import DataLoader, TensorDataset\n",
    "import torch.nn as nn\n",
    "import torch.optim as optim\n",
    "\n",
    "# 1. Prepare dataset\n",
    "X_numeric, X_home_id, X_away_id, y, scaler = prepare_embedding_dataset(df)\n",
    "\n",
    "# Convert date column to datetime\n",
    "dates = pd.to_datetime(df['date'])\n",
    "\n",
    "# Sort by date\n",
    "sorted_idx = dates.argsort()\n",
    "X_numeric = X_numeric[sorted_idx]\n",
    "X_home_id = X_home_id[sorted_idx]\n",
    "X_away_id = X_away_id[sorted_idx]\n",
    "y = y[sorted_idx]\n",
    "\n",
    "# Split by date: last 20% as test\n",
    "split_idx = int(len(df) * 0.8)\n",
    "\n",
    "X_numeric_train, X_numeric_test = X_numeric[:split_idx], X_numeric[split_idx:]\n",
    "X_home_train, X_home_test = X_home_id[:split_idx], X_home_id[split_idx:]\n",
    "X_away_train, X_away_test = X_away_id[:split_idx], X_away_id[split_idx:]\n",
    "y_train, y_test = y[:split_idx], y[split_idx:]\n",
    "\n",
    "# Convert to PyTorch tensors\n",
    "X_numeric_train = torch.tensor(X_numeric_train, dtype=torch.float32)\n",
    "X_numeric_test = torch.tensor(X_numeric_test, dtype=torch.float32)\n",
    "X_home_train = torch.tensor(X_home_train, dtype=torch.long)\n",
    "X_home_test = torch.tensor(X_home_test, dtype=torch.long)\n",
    "X_away_train = torch.tensor(X_away_train, dtype=torch.long)\n",
    "X_away_test = torch.tensor(X_away_test, dtype=torch.long)\n",
    "y_train = torch.tensor(y_train, dtype=torch.float32).unsqueeze(1)\n",
    "y_test = torch.tensor(y_test, dtype=torch.float32).unsqueeze(1)\n",
    "\n",
    "# Create DataLoader\n",
    "train_dataset = TensorDataset(X_numeric_train, X_home_train, X_away_train, y_train)\n",
    "test_dataset = TensorDataset(X_numeric_test, X_home_test, X_away_test, y_test)\n",
    "\n",
    "train_loader = DataLoader(train_dataset, batch_size=32, shuffle=True)\n",
    "test_loader = DataLoader(test_dataset, batch_size=32, shuffle=False)"
   ]
  },
  {
   "cell_type": "code",
   "execution_count": 59,
   "id": "aa4cb23f",
   "metadata": {},
   "outputs": [],
   "source": [
    "num_numeric_features = X_numeric_train.shape[1]\n",
    "num_teams = max(X_home_id.max(), X_away_id.max()) + 1  # IDs start at 0\n",
    "model = NBAEmbeddingModel(num_numeric_features, num_teams, embedding_dim=8)\n",
    "\n",
    "# Loss and optimizer\n",
    "criterion = nn.MSELoss()\n",
    "optimizer = optim.Adam(model.parameters(), lr=0.001)"
   ]
  },
  {
   "cell_type": "code",
   "execution_count": 60,
   "id": "34708b58",
   "metadata": {},
   "outputs": [
    {
     "ename": "NameError",
     "evalue": "name 'x' is not defined",
     "output_type": "error",
     "traceback": [
      "\u001b[31m---------------------------------------------------------------------------\u001b[39m",
      "\u001b[31mNameError\u001b[39m                                 Traceback (most recent call last)",
      "\u001b[36mCell\u001b[39m\u001b[36m \u001b[39m\u001b[32mIn[60]\u001b[39m\u001b[32m, line 1\u001b[39m\n\u001b[32m----> \u001b[39m\u001b[32m1\u001b[39m num_epochs = \u001b[43mx\u001b[49m\n\u001b[32m      3\u001b[39m \u001b[38;5;28;01mfor\u001b[39;00m epoch \u001b[38;5;129;01min\u001b[39;00m \u001b[38;5;28mrange\u001b[39m(num_epochs):\n\u001b[32m      4\u001b[39m     model.train()\n",
      "\u001b[31mNameError\u001b[39m: name 'x' is not defined"
     ]
    }
   ],
   "source": [
    "num_epochs = x\n",
    "\n",
    "for epoch in range(num_epochs):\n",
    "    model.train()\n",
    "    train_loss = 0.0\n",
    "    \n",
    "    for X_num_batch, X_home_batch, X_away_batch, y_batch in train_loader:\n",
    "        optimizer.zero_grad()\n",
    "        outputs = model(X_num_batch, X_home_batch, X_away_batch)\n",
    "        loss = criterion(outputs, y_batch)\n",
    "        loss.backward()\n",
    "        optimizer.step()\n",
    "        train_loss += loss.item() * X_num_batch.size(0)\n",
    "    \n",
    "    train_loss /= len(train_loader.dataset)"
   ]
  }
 ],
 "metadata": {
  "kernelspec": {
   "display_name": "Python 3",
   "language": "python",
   "name": "python3"
  },
  "language_info": {
   "codemirror_mode": {
    "name": "ipython",
    "version": 3
   },
   "file_extension": ".py",
   "mimetype": "text/x-python",
   "name": "python",
   "nbconvert_exporter": "python",
   "pygments_lexer": "ipython3",
   "version": "3.13.3"
  }
 },
 "nbformat": 4,
 "nbformat_minor": 5
}
